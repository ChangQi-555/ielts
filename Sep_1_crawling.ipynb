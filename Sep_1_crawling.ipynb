{
  "cells": [
    {
      "cell_type": "markdown",
      "metadata": {
        "id": "view-in-github",
        "colab_type": "text"
      },
      "source": [
        "<a href=\"https://colab.research.google.com/github/ChangQi-555/ielts/blob/master/Sep_1_crawling.ipynb\" target=\"_parent\"><img src=\"https://colab.research.google.com/assets/colab-badge.svg\" alt=\"Open In Colab\"/></a>"
      ]
    },
    {
      "cell_type": "markdown",
      "metadata": {
        "id": "WZ0lcNdr8hIu"
      },
      "source": [
        "# 爬蟲!"
      ]
    },
    {
      "cell_type": "code",
      "execution_count": 1,
      "metadata": {
        "colab": {
          "base_uri": "https://localhost:8080/"
        },
        "id": "jFxIj_ycmN6w",
        "outputId": "0aa76960-032b-4e7a-83eb-314b1a66acad"
      },
      "outputs": [
        {
          "output_type": "stream",
          "name": "stdout",
          "text": [
            "Collecting selenium\n",
            "  Downloading selenium-4.1.3-py3-none-any.whl (968 kB)\n",
            "\u001b[K     |████████████████████████████████| 968 kB 9.4 MB/s \n",
            "\u001b[?25hCollecting trio~=0.17\n",
            "  Downloading trio-0.20.0-py3-none-any.whl (359 kB)\n",
            "\u001b[K     |████████████████████████████████| 359 kB 58.8 MB/s \n",
            "\u001b[?25hCollecting trio-websocket~=0.9\n",
            "  Downloading trio_websocket-0.9.2-py3-none-any.whl (16 kB)\n",
            "Collecting urllib3[secure,socks]~=1.26\n",
            "  Downloading urllib3-1.26.9-py2.py3-none-any.whl (138 kB)\n",
            "\u001b[K     |████████████████████████████████| 138 kB 68.7 MB/s \n",
            "\u001b[?25hCollecting async-generator>=1.9\n",
            "  Downloading async_generator-1.10-py3-none-any.whl (18 kB)\n",
            "Requirement already satisfied: attrs>=19.2.0 in /usr/local/lib/python3.7/dist-packages (from trio~=0.17->selenium) (21.4.0)\n",
            "Requirement already satisfied: sortedcontainers in /usr/local/lib/python3.7/dist-packages (from trio~=0.17->selenium) (2.4.0)\n",
            "Requirement already satisfied: idna in /usr/local/lib/python3.7/dist-packages (from trio~=0.17->selenium) (2.10)\n",
            "Collecting sniffio\n",
            "  Downloading sniffio-1.2.0-py3-none-any.whl (10 kB)\n",
            "Collecting outcome\n",
            "  Downloading outcome-1.1.0-py2.py3-none-any.whl (9.7 kB)\n",
            "Collecting wsproto>=0.14\n",
            "  Downloading wsproto-1.1.0-py3-none-any.whl (24 kB)\n",
            "Collecting pyOpenSSL>=0.14\n",
            "  Downloading pyOpenSSL-22.0.0-py2.py3-none-any.whl (55 kB)\n",
            "\u001b[K     |████████████████████████████████| 55 kB 3.3 MB/s \n",
            "\u001b[?25hRequirement already satisfied: certifi in /usr/local/lib/python3.7/dist-packages (from urllib3[secure,socks]~=1.26->selenium) (2021.10.8)\n",
            "Collecting cryptography>=1.3.4\n",
            "  Downloading cryptography-36.0.2-cp36-abi3-manylinux_2_24_x86_64.whl (3.6 MB)\n",
            "\u001b[K     |████████████████████████████████| 3.6 MB 46.3 MB/s \n",
            "\u001b[?25hRequirement already satisfied: PySocks!=1.5.7,<2.0,>=1.5.6 in /usr/local/lib/python3.7/dist-packages (from urllib3[secure,socks]~=1.26->selenium) (1.7.1)\n",
            "Requirement already satisfied: cffi>=1.12 in /usr/local/lib/python3.7/dist-packages (from cryptography>=1.3.4->urllib3[secure,socks]~=1.26->selenium) (1.15.0)\n",
            "Requirement already satisfied: pycparser in /usr/local/lib/python3.7/dist-packages (from cffi>=1.12->cryptography>=1.3.4->urllib3[secure,socks]~=1.26->selenium) (2.21)\n",
            "Collecting h11<1,>=0.9.0\n",
            "  Downloading h11-0.13.0-py3-none-any.whl (58 kB)\n",
            "\u001b[K     |████████████████████████████████| 58 kB 5.1 MB/s \n",
            "\u001b[?25hRequirement already satisfied: typing-extensions in /usr/local/lib/python3.7/dist-packages (from h11<1,>=0.9.0->wsproto>=0.14->trio-websocket~=0.9->selenium) (3.10.0.2)\n",
            "Installing collected packages: sniffio, outcome, h11, cryptography, async-generator, wsproto, urllib3, trio, pyOpenSSL, trio-websocket, selenium\n",
            "  Attempting uninstall: urllib3\n",
            "    Found existing installation: urllib3 1.24.3\n",
            "    Uninstalling urllib3-1.24.3:\n",
            "      Successfully uninstalled urllib3-1.24.3\n",
            "\u001b[31mERROR: pip's dependency resolver does not currently take into account all the packages that are installed. This behaviour is the source of the following dependency conflicts.\n",
            "requests 2.23.0 requires urllib3!=1.25.0,!=1.25.1,<1.26,>=1.21.1, but you have urllib3 1.26.9 which is incompatible.\n",
            "datascience 0.10.6 requires folium==0.2.1, but you have folium 0.8.3 which is incompatible.\u001b[0m\n",
            "Successfully installed async-generator-1.10 cryptography-36.0.2 h11-0.13.0 outcome-1.1.0 pyOpenSSL-22.0.0 selenium-4.1.3 sniffio-1.2.0 trio-0.20.0 trio-websocket-0.9.2 urllib3-1.26.9 wsproto-1.1.0\n",
            "Collecting fake_useragent\n",
            "  Downloading fake-useragent-0.1.11.tar.gz (13 kB)\n",
            "Building wheels for collected packages: fake-useragent\n",
            "  Building wheel for fake-useragent (setup.py) ... \u001b[?25l\u001b[?25hdone\n",
            "  Created wheel for fake-useragent: filename=fake_useragent-0.1.11-py3-none-any.whl size=13502 sha256=7b567ac52e6318ba21696bb22304a31970f3c41bf384e75b95f76fe3f67ec7a7\n",
            "  Stored in directory: /root/.cache/pip/wheels/ed/f7/62/50ab6c9a0b5567267ab76a9daa9d06315704209b2c5d032031\n",
            "Successfully built fake-useragent\n",
            "Installing collected packages: fake-useragent\n",
            "Successfully installed fake-useragent-0.1.11\n",
            "Get:1 https://cloud.r-project.org/bin/linux/ubuntu bionic-cran40/ InRelease [3,626 B]\n",
            "Ign:2 https://developer.download.nvidia.com/compute/cuda/repos/ubuntu1804/x86_64  InRelease\n",
            "Ign:3 https://developer.download.nvidia.com/compute/machine-learning/repos/ubuntu1804/x86_64  InRelease\n",
            "Get:4 https://developer.download.nvidia.com/compute/cuda/repos/ubuntu1804/x86_64  Release [696 B]\n",
            "Hit:5 https://developer.download.nvidia.com/compute/machine-learning/repos/ubuntu1804/x86_64  Release\n",
            "Get:6 https://developer.download.nvidia.com/compute/cuda/repos/ubuntu1804/x86_64  Release.gpg [836 B]\n",
            "Get:7 http://security.ubuntu.com/ubuntu bionic-security InRelease [88.7 kB]\n",
            "Hit:8 http://archive.ubuntu.com/ubuntu bionic InRelease\n",
            "Get:9 http://ppa.launchpad.net/c2d4u.team/c2d4u4.0+/ubuntu bionic InRelease [15.9 kB]\n",
            "Get:10 https://cloud.r-project.org/bin/linux/ubuntu bionic-cran40/ Packages [82.3 kB]\n",
            "Get:11 http://archive.ubuntu.com/ubuntu bionic-updates InRelease [88.7 kB]\n",
            "Hit:13 http://ppa.launchpad.net/cran/libgit2/ubuntu bionic InRelease\n",
            "Get:14 http://archive.ubuntu.com/ubuntu bionic-backports InRelease [74.6 kB]\n",
            "Get:15 http://ppa.launchpad.net/deadsnakes/ppa/ubuntu bionic InRelease [15.9 kB]\n",
            "Get:16 https://developer.download.nvidia.com/compute/cuda/repos/ubuntu1804/x86_64  Packages [952 kB]\n",
            "Get:17 http://ppa.launchpad.net/graphics-drivers/ppa/ubuntu bionic InRelease [21.3 kB]\n",
            "Get:18 http://ppa.launchpad.net/c2d4u.team/c2d4u4.0+/ubuntu bionic/main Sources [1,831 kB]\n",
            "Get:19 http://security.ubuntu.com/ubuntu bionic-security/restricted amd64 Packages [884 kB]\n",
            "Get:20 http://archive.ubuntu.com/ubuntu bionic-updates/universe amd64 Packages [2,268 kB]\n",
            "Get:21 http://security.ubuntu.com/ubuntu bionic-security/universe amd64 Packages [1,490 kB]\n",
            "Get:22 http://security.ubuntu.com/ubuntu bionic-security/main amd64 Packages [2,694 kB]\n",
            "Get:23 http://ppa.launchpad.net/c2d4u.team/c2d4u4.0+/ubuntu bionic/main amd64 Packages [938 kB]\n",
            "Get:24 http://archive.ubuntu.com/ubuntu bionic-updates/multiverse amd64 Packages [29.8 kB]\n",
            "Get:25 http://archive.ubuntu.com/ubuntu bionic-updates/main amd64 Packages [3,133 kB]\n",
            "Get:26 http://archive.ubuntu.com/ubuntu bionic-updates/restricted amd64 Packages [918 kB]\n",
            "Get:27 http://archive.ubuntu.com/ubuntu bionic-backports/universe amd64 Packages [12.9 kB]\n",
            "Get:28 http://archive.ubuntu.com/ubuntu bionic-backports/main amd64 Packages [12.2 kB]\n",
            "Get:29 http://ppa.launchpad.net/deadsnakes/ppa/ubuntu bionic/main amd64 Packages [45.3 kB]\n",
            "Get:30 http://ppa.launchpad.net/graphics-drivers/ppa/ubuntu bionic/main amd64 Packages [44.3 kB]\n",
            "Fetched 15.6 MB in 5s (3,077 kB/s)\n",
            "Reading package lists... Done\n",
            "Reading package lists... Done\n",
            "Building dependency tree       \n",
            "Reading state information... Done\n",
            "The following additional packages will be installed:\n",
            "  chromium-browser chromium-browser-l10n chromium-codecs-ffmpeg-extra\n",
            "Suggested packages:\n",
            "  webaccounts-chromium-extension unity-chromium-extension\n",
            "The following NEW packages will be installed:\n",
            "  chromium-browser chromium-browser-l10n chromium-chromedriver\n",
            "  chromium-codecs-ffmpeg-extra\n",
            "0 upgraded, 4 newly installed, 0 to remove and 96 not upgraded.\n",
            "Need to get 88.3 MB of archives.\n",
            "After this operation, 294 MB of additional disk space will be used.\n",
            "Get:1 http://archive.ubuntu.com/ubuntu bionic-updates/universe amd64 chromium-codecs-ffmpeg-extra amd64 99.0.4844.84-0ubuntu0.18.04.1 [1,142 kB]\n",
            "Get:2 http://archive.ubuntu.com/ubuntu bionic-updates/universe amd64 chromium-browser amd64 99.0.4844.84-0ubuntu0.18.04.1 [77.7 MB]\n",
            "Get:3 http://archive.ubuntu.com/ubuntu bionic-updates/universe amd64 chromium-browser-l10n all 99.0.4844.84-0ubuntu0.18.04.1 [4,397 kB]\n",
            "Get:4 http://archive.ubuntu.com/ubuntu bionic-updates/universe amd64 chromium-chromedriver amd64 99.0.4844.84-0ubuntu0.18.04.1 [5,092 kB]\n",
            "Fetched 88.3 MB in 6s (16.0 MB/s)\n",
            "Selecting previously unselected package chromium-codecs-ffmpeg-extra.\n",
            "(Reading database ... 156210 files and directories currently installed.)\n",
            "Preparing to unpack .../chromium-codecs-ffmpeg-extra_99.0.4844.84-0ubuntu0.18.04.1_amd64.deb ...\n",
            "Unpacking chromium-codecs-ffmpeg-extra (99.0.4844.84-0ubuntu0.18.04.1) ...\n",
            "Selecting previously unselected package chromium-browser.\n",
            "Preparing to unpack .../chromium-browser_99.0.4844.84-0ubuntu0.18.04.1_amd64.deb ...\n",
            "Unpacking chromium-browser (99.0.4844.84-0ubuntu0.18.04.1) ...\n",
            "Selecting previously unselected package chromium-browser-l10n.\n",
            "Preparing to unpack .../chromium-browser-l10n_99.0.4844.84-0ubuntu0.18.04.1_all.deb ...\n",
            "Unpacking chromium-browser-l10n (99.0.4844.84-0ubuntu0.18.04.1) ...\n",
            "Selecting previously unselected package chromium-chromedriver.\n",
            "Preparing to unpack .../chromium-chromedriver_99.0.4844.84-0ubuntu0.18.04.1_amd64.deb ...\n",
            "Unpacking chromium-chromedriver (99.0.4844.84-0ubuntu0.18.04.1) ...\n",
            "Setting up chromium-codecs-ffmpeg-extra (99.0.4844.84-0ubuntu0.18.04.1) ...\n",
            "Setting up chromium-browser (99.0.4844.84-0ubuntu0.18.04.1) ...\n",
            "update-alternatives: using /usr/bin/chromium-browser to provide /usr/bin/x-www-browser (x-www-browser) in auto mode\n",
            "update-alternatives: using /usr/bin/chromium-browser to provide /usr/bin/gnome-www-browser (gnome-www-browser) in auto mode\n",
            "Setting up chromium-chromedriver (99.0.4844.84-0ubuntu0.18.04.1) ...\n",
            "Setting up chromium-browser-l10n (99.0.4844.84-0ubuntu0.18.04.1) ...\n",
            "Processing triggers for man-db (2.8.3-2ubuntu0.1) ...\n",
            "Processing triggers for hicolor-icon-theme (0.17-2) ...\n",
            "Processing triggers for mime-support (3.60ubuntu1) ...\n",
            "Processing triggers for libc-bin (2.27-3ubuntu1.3) ...\n",
            "/sbin/ldconfig.real: /usr/local/lib/python3.7/dist-packages/ideep4py/lib/libmkldnn.so.0 is not a symbolic link\n",
            "\n",
            "cp: '/usr/lib/chromium-browser/chromedriver' and '/usr/bin/chromedriver' are the same file\n"
          ]
        },
        {
          "output_type": "stream",
          "name": "stderr",
          "text": [
            "/usr/local/lib/python3.7/dist-packages/ipykernel_launcher.py:20: DeprecationWarning: use options instead of chrome_options\n"
          ]
        }
      ],
      "source": [
        "!pip install selenium\n",
        "!pip install fake_useragent\n",
        "!apt-get update # to update ubuntu to correctly run apt install\n",
        "!apt install chromium-chromedriver\n",
        "!cp /usr/lib/chromium-browser/chromedriver /usr/bin\n",
        "import sys\n",
        "sys.path.insert(0,'/usr/lib/chromium-browser/chromedriver')\n",
        "from selenium import webdriver \n",
        "from selenium.webdriver.common.by import By\n",
        "from selenium.webdriver.support.ui import WebDriverWait\n",
        "from selenium.webdriver.support import expected_conditions as ec\n",
        "from selenium.webdriver.common import action_chains as ActionChains\n",
        "from selenium.webdriver.chrome.options import Options\n",
        "opt = Options\n",
        "chrome_options = webdriver.ChromeOptions()\n",
        "chrome_options.add_argument('--headless')\n",
        "chrome_options.add_argument('--no-sandbox')\n",
        "chrome_options.add_argument('--disable-dev-shm-usage')\n",
        "chrome_options.add_argument('--incognito')\n",
        "wd = webdriver.Chrome('chromedriver',chrome_options=chrome_options)"
      ]
    },
    {
      "cell_type": "code",
      "execution_count": null,
      "metadata": {
        "colab": {
          "base_uri": "https://localhost:8080/"
        },
        "id": "0lP898pqmYDy",
        "outputId": "dfd1af52-2054-4f09-f690-23d7d9bae76a"
      },
      "outputs": [
        {
          "output_type": "stream",
          "name": "stderr",
          "text": [
            "/usr/local/lib/python3.7/dist-packages/requests/__init__.py:91: RequestsDependencyWarning: urllib3 (1.26.9) or chardet (3.0.4) doesn't match a supported version!\n",
            "  RequestsDependencyWarning)\n"
          ]
        }
      ],
      "source": [
        "import requests\n",
        "from bs4 import BeautifulSoup\n",
        "import pandas as pd\n",
        "import time\n",
        "from selenium.webdriver.common.keys import Keys\n",
        "import json\n",
        "from google.colab import drive\n",
        "import datetime\n",
        "drive.mount('/content/drive')"
      ]
    },
    {
      "cell_type": "markdown",
      "metadata": {
        "id": "2c7Ky3_YulVO"
      },
      "source": [
        "##  測試window handles 切換頁面"
      ]
    },
    {
      "cell_type": "code",
      "execution_count": 26,
      "metadata": {
        "colab": {
          "base_uri": "https://localhost:8080/"
        },
        "id": "LjsPqYPdqABq",
        "outputId": "8ed479cd-968a-4073-bf61-98006f61fa11"
      },
      "outputs": [
        {
          "output_type": "stream",
          "name": "stdout",
          "text": [
            "1: 搜尋結果： 涵碧樓 - Tripadvisor\n",
            "child window: 日月潭涵碧樓酒店 (魚池) - 250 則旅客評論和比價\n",
            "日月潭涵碧樓酒店 (魚池)\n",
            "The Lalu Sun Moon Lake\n"
          ]
        }
      ],
      "source": [
        "from fake_useragent import UserAgent \n",
        "ua = UserAgent()\n",
        "user_agent = ua.random\n",
        "chrome_options.add_argument('user-agent={}'.format(ua))  \n",
        "wd.get(\"https://www.tripadvisor.com.tw/\")\n",
        "wait = WebDriverWait(wd, 20)\n",
        "\n",
        "\n",
        "search_button = wait.until(ec.element_to_be_clickable((By.XPATH, \"//*[@id='lithium-root']/main/div[3]/div/div/div[2]/form/input[1]\")))  \n",
        "search_button.click()\n",
        "\n",
        "search_button.send_keys(\"涵碧樓\")\n",
        "search_button.send_keys(Keys.ENTER)\n",
        "parent_handle = wd.current_window_handle\n",
        "print('1: ' + wd.title)\n",
        "ele = wait.until(ec.element_to_be_clickable((By.XPATH,\"//*[@id='BODY_BLOCK_JQUERY_REFLOW']/div[2]/div/div[2]/div/div/div/div/div[1]/div/div[1]/div/div[3]/div/div[1]/div/div[2]/div/div/div[1]/div/div/div/div[2]/div[1]/div[1]/span\")))\n",
        "ele.click()\n",
        "handles = wd.window_handles\n",
        "size = len(handles)\n",
        "# for x in range(size):\n",
        "#   print('x= ' + str(x) )\n",
        "#   wd.switch_to.window(handles[x])\n",
        "#   print('child window: ' + wd.title)\n",
        "wd.switch_to.window(handles[1])\n",
        "print('child window: ' + wd.title)\n",
        "time.sleep(7)\n",
        "# print('2: ' + wd.title)\n",
        "heading = wait.until(ec.presence_of_element_located((By.XPATH,\"//*[@id='HEADING']\")))\n",
        "print(heading.text)\n"
      ]
    },
    {
      "cell_type": "markdown",
      "metadata": {
        "id": "VpVFndTeLX7B"
      },
      "source": [
        "## switch comment page test"
      ]
    },
    {
      "cell_type": "code",
      "execution_count": 54,
      "metadata": {
        "colab": {
          "base_uri": "https://localhost:8080/"
        },
        "id": "YcHTjAqM9pwM",
        "outputId": "b72a0733-c3ce-4c61-8554-a80c9a6f2f21"
      },
      "outputs": [
        {
          "output_type": "stream",
          "name": "stdout",
          "text": [
            "We had a lovely experience at this restaurant. We made a reservation and we were given a nice table with the perfect view of the Huangpu River. The food was great and the service was impecable (special mention to Janice and Johnson). We also enjoyed...More\n",
            "Do you need to have a personalized touch? Do you love excellent service AND delicious food? Are you looking for Vegan, Vegetarian friendly dinner set menus? Jin Xuan went above and beyond to give me a memorable, magical Christmas Eve Dinner!\n",
            "Dear Maliza4Cambodia Thank you for sharing a wonderful review with us. I am delighted to learn that you enjoy dining with us. Our Ladies and Gentlemen look forward to welcoming you back in the near future. Warmest regards Debbie Wong Quality Manager\n",
            "First off anything associated with the Ritz-Carlton is always five stars, and this restaurant not any different. I entrusted Bill, the sommelier, with my all the food decisions. The menu had so many options, so I ordered all his recommendations. I had the lobster, sweat...More\n",
            "Dear NoBazinga Thank you for taking the time to share such a wonderful review with the TripAdvisor Communtiy. I am thrill to read that you received exceptional service from our Ladies and Gentlemen. I shared your words of encouragement with our high management team, especially...More\n",
            "Excellent. High quality foods and the variety of dishes certainly is satisfactory. waiting times not bad.More\n",
            "Dear tiant k Tahnk you for choosing The Ritz-Carlton Shanghai Pudong Jin Xuan Chinese restaurant. I am delighted to learn that you received excellent food and enjoyed your dining experience. I shared your kind words with Jin Xuan Chinese restaurant team. All our Ladies and...More\n",
            "Perfect Surrounding, fantastic Food and Perfect Service . Taking care a lot of us, but Not disturbing the atmosphere.. Food was very authenticMore\n",
            "Dear petraspoehrer Thank you for sharing such a wonderful dining experience with the TripAdvisor Community. I am delighted to learn that you received perfect service from our Ladies and Gentlemen. Thank you for highlighting the delicious food. I shared your kind words with the Jin...More\n",
            "We chose Jin Xuan for its reputation, in order to celebrate a birthday. The overall experience surpassed our, already high, expectations. The reservation process was efficient, perfect and we were able to quickly agree on special requests, related to the birthday celebration. The restaurant and...More\n",
            "Dear Steve S Happy Birthday to you! Thank you for recommending the Jin Xuan Chinese Restaurant. It’s great to learn that our Ladies and Gentlemen created a memorable experience for you. I shared your compliments with the Jin Xuan team, especially Leo. All our Ladies...More\n",
            "I've made the reservation for this restaurant on tripadvisor directly for the special occasion. My mother had on 11.01 her birthday! As we have arrived to the restaurant, stuff greeted us very politely and have shown us our table. I should say, I didn't expect...More\n",
            "Dear Mirodeia， Warmest greetings from the Ritz-Carlton Shanghai, Pudong and thank you for your review on TripAdvisor community. It is our pleasure to know that you have chosen Jinxuan to celebrate your mother's birthday. I am delighted that our excellent food and service could meet...More\n",
            "We went there for a brunch to celebrate New Year and reunion with my cousin and friends. Was sat next to the window table so we could enjoy and soaked in the magnificent Shanghai view. The food was great, each and every dishes were delicious...More\n",
            "Dear Fera1083， Warmest greetings from the Ritz-Carlton Shanghai, Pudong and thank you for your review on TripAdvisor community. It is our pleasure to know that you have chosen Jin Xuan to celebrate the New year and reunion with family and friend. I am delighted that...More\n",
            "My fiance proposed! We went to dinner in the Ritz-Carlton at the amazing Jin Xuan Chinese Restaurant on the 53rd floor. It was our first ever Michelin star experience so we decided to go for the tasting menu to try lots of different amazing foods....More\n",
            "Dear C6513HHsarahm， Warmest greetings from the Ritz-Carlton Shanghai, Pudong and thank you for your review on TripAdvisor community. It is our pleasure to know that you have enjoyed your time at Jin Xuan. I am delighted that our excellent food and service could meet up...More\n",
            "This was the best meal we had in Shanghai. Each dish was perfection. The prices are high but we were fortunate to be able to use a discount as Marriott Bonvoy Elite members. The setting was beautiful and the service was excellent in every way....More\n",
            "Dear joyf970， Warmest greetings from the Ritz-Carlton Shanghai, Pudong and thank you for your review on TripAdvisor community. It is our pleasure to know that you have enjoyed your time at Jin Xuan. I am delighted that our excellent food and service could meet up...More\n",
            "Anna was amazing. Thanks so much! The food was delicious! The view is also spectacular. Thanks again Anna!More\n",
            "Dear Pelo567， Warmest greetings from the Ritz-Carlton Shanghai, Pudong and thank you for your review on TripAdvisor community. It is our pleasure to know that you have enjoyed your time at Jin Xuan. I am delighted that our excellent food and service could meet up...More\n",
            "We enjoyed a delicious traditional Chinese meal with a modern twist while overlooking Pu He and the Shanghai skyline!! Our server, Lily, was absolutely incredible and helped make our dinner unforgettable! I would highly recommend Jin Xuan to any and all looking to have a...More\n",
            "Dear 879lilyw， Warmest greetings from the Ritz-Carlton Shanghai, Pudong and thank you for your review on TripAdvisor community. It is our pleasure to know that you have enjoyed your time at Jin Xuan. I am delighted that our excellent food and service could meet up...More\n",
            "The food and view is amazing, special thanks to Cassie and Hailey, the service is excellent! I like the tea the best!More\n",
            "Dear Egod， Warmest greetings from the Ritz-Carlton Shanghai, Pudong and thank you for your review on TripAdvisor community. It is our pleasure to know that you have enjoyed your time at Jin Xuan. I am delighted that our excellent food and service could meet up...More\n",
            "We ate lunch here today and the food and service were absolutely amazing. Our waitress Anna was more than accommodating. She even moved us to a table by the window for our last course. Each course was delicious, and the lobster was definitely a standout!...More\n",
            "Dear Syd05， Warmest greetings from the Ritz-Carlton Shanghai, Pudong and thank you for your review on TripAdvisor community. It is our pleasure to know that you have enjoyed your time at Jin Xuan. I am delighted that our excellent food and service could meet up...More\n",
            "It is a very luxurious restaurant on the 53rd floor of ritz Carlton hotel with a fabulous view. The food is absolutely amazing and the customer service is unbelievable. Thanks to our host Anna me and my friends had a perfect night at this place.More\n",
            "Dear howie0104， Warmest greetings from the Ritz-Carlton Shanghai, Pudong and thank you for your review on TripAdvisor community. It is our pleasure to know that you have enjoyed your time at Jin Xuan. I am delighted that our excellent food and service could meet up...More\n",
            "Nice restaurant with nice wait staff. Some of the food we had was amazing, and some was ok. The view from the restaurant is very nice. We were expecting a little more in everything while at the restaurant, but we probably just had too high...More\n",
            "Dear sanschutz， Warmest greetings from the Ritz-Carlton Shanghai, Pudong and thank you for your review on TripAdvisor community. It is our pleasure to know that you have enjoyed your time at Jin Xuan. I am delighted that our excellent food and service could meet up...More\n",
            "I had a business dinner in this high standing restaurant. Everything was outstanding, The location is amazing, you have a direct view to the Bund (unfortunately they switch off the lights at ten :( The food was one of the best I never had in...More\n",
            "Dear 296QZ， Warmest greetings from the Ritz-Carlton Shanghai, Pudong and thank you for your review on TripAdvisor community. It is our pleasure to know that you have enjoyed your dinner at Jin Xuan. I am delighted that our excellent food and service could meet up...More\n",
            "Jin Xuan is located on the 53rd floor in the Ritz Carlton hotel in Shanghai. We made reservation for brunch on a Saturday. On the weekends, they only serve set menu dim sum for RMB1288/2 people set, but it was the perfect amount of food...More\n",
            "Dear 296QZ， Warmest greetings from the Ritz-Carlton Shanghai, Pudong and thank you for your review on TripAdvisor community. It is our pleasure to know that you have enjoyed your time at Jin Xuan. I am delighted that our excellent food and service could meet up...More\n",
            "My wife and myself had an amazing dining experience at Jinxuan last night, celebrating her birthday. When this request for a special occasion was informed, I didn't expect too much fanfare except for a small birthday cake/dessert towards the end of the meal. But alas!...More\n",
            "Dear issacli87， Warmest greetings from the Ritz-Carlton Shanghai, Pudong and thank you for your review on TripAdvisor community. It is our pleasure to know that you have enjoyed your time at Jin Xuan. I am delighted that our excellent food and service could meet up...More\n",
            "Truly spectacular. We had the best dinner EVER! Anna was our server and she was incredible; translated for us, recommended the best dishes and provided excellent service. The views are lovely, the ambiance perfect and the food truly outstanding. Highly recommend; we will return when...More\n",
            "Dear rachaelrogers7， Warmest greetings from the Ritz-Carlton Shanghai, Pudong and thank you for your review on TripAdvisor community. It is our pleasure to know that you have enjoyed your time at Jin Xuan. I am delighted that our excellent food and service could meet up...More\n",
            "Highly recommended while in Shanghai, a beautiful view of the city with an elegant style decoration plus their incredible good food!More\n",
            "Dear Nahomirosas， Warmest greetings from the Ritz-Carlton Shanghai, Pudong and thank you for your review on TripAdvisor community. It is our pleasure to know that you have enjoyed your time at Jin Xuan. I am delighted that our excellent food and service could meet up...More\n",
            "Great restaurant! The best server is Johnson and Tina. I celebrated my birthday here and it was over the top wonderful! The staff went out of their way to do everything they could to ensure a perfect evening. The food was delicious and reminded me...More\n",
            "Dear NataliR18 Warmest greetings from the Ritz-Carlton Shanghai, Pudong and thank you for your review on TripAdvisor community. It is our pleasure to know that you have enjoyed your time at Jin Xuan. I am delighted that our excellent food and service could meet up...More\n",
            "Excellent view, superb service from Ritz Carlton (Tina and Anne), Good food. Wonderful time spent here.More\n",
            "Dear Victorzhao1, Warmest greetings from the Ritz-Carlton Shanghai, Pudong and thank you for your review on TripAdvisor community. It is our pleasure to know that you have enjoyed your time at Jin Xuan. I am delighted that our excellent food and service could meet up...More\n",
            "Great Chinese food , good tastinf, fantastic service from Anna , smiling , helpfulf , smart and nice Very smart and niceMore\n",
            "Dear PeterH4081, Warmest greetings from the Ritz-Carlton Shanghai, Pudong and thank you for your review on TripAdvisor community. It is our pleasure to know that you have enjoyed your time at Jin Xuan. I am delighted that our excellent food and service could meet up...More\n",
            "A few things: First, this place is very expensive. The middle tasting menu is $400/person. You can get away with less via a la carte (or much more, too). Second, the seats are very uncomfortable. Third, the online reservation system is all screwed up. Their...More\n",
            "Dear Idmd, Warmest greetings from the Ritz-Carlton Shanghai, Pudong and thank you for your review on TripAdvisor community. It is our pleasure to know that you have enjoyed your time at Jin Xuan. I am delighted that our excellent food and service could meet up...More\n",
            "This place was beyond expectation. I feel so bad that I can't remember the waitress name. She is actually in one of the photos. The service was excellent. The food was impressive. The iberico BBQ pork was just perfectly cooked. The Black bun with lava...More\n",
            "Dear Palm-Preeyakorn, Warmest greetings from the Ritz-Carlton Shanghai, Pudong and thank you for your review on TripAdvisor community. It is our pleasure to know that you have enjoyed your time at Jin Xuan. I am delighted that our excellent food and service could meet up...More\n",
            "Celebrated wife’s birthday at Jin Xuan and had a great experience. Excellent food and very personable service from Joy, who made our dining experience unique. She gave us very good recommendations and was practical about what to order as we had informed her that we...More\n",
            "Dear alvinlwk86， Warmest greetings from the Ritz-Carlton Shanghai, Pudong and thank you for your review on TripAdvisor community. It is our pleasure to know that you and your wife celebrated her birthday at Jin Xuan. I am delighted that our excellent food and service could...More\n",
            "Had a nice dinner with an aweomse view of the bund, Joy and Tracy was nice to recommend the food and checked for food allergies. In conclusion, we had a wonderful time here.More\n",
            "Dear GuoJ89， Warmest greetings from the Ritz-Carlton Shanghai, Pudong and thank you for your review on TripAdvisor community. It is our pleasure to know that you have enjoyed your time at Jin Xuan. I am delighted that our excellent food and service could meet up...More\n",
            "The view is breathtaking. Initially I was skeptical re the food but the dim sum was amazing. Had almost everything on the dim sum menu- highly recommend it. The iberico pork is heavenly. The best. Must must must try.More\n",
            "Dear lovelynne， Warmest greetings from the Ritz-Carlton Shanghai, Pudong and thank you for your review on TripAdvisor community. It is our pleasure to know that you have enjoyed your time at Jin Xuan. I am delighted that our excellent food and service could meet up...More\n",
            "We have a good dinner with beautiful view in Jin Xuan Restaurant. Seated near window with helpful assistance from Anna makes our dinner a pleasant experience.More\n",
            "Dear tekfuks, Warmest greetings from the Ritz-Carlton Shanghai, Pudong and thank you for your review on TripAdvisor community. It is our pleasure to know that you have enjoyed your time at Jin Xuan. I am delighted that our excellent food and service could meet up...More\n",
            "Menu is difficult to read and understand, dishes are coming even before tou have finished the first one, and it was ... good. But nothing exceptional. Service was very nice but not very attentive. The view is fantastic and place very nice as you would...More\n",
            "Dear Marnierh, Thanks for taking time share your comments with us. We are regard that our food and beverage service not up to your expectation. We are appreciated to let us know the shortcomings. We had share your comments with our team and work on...More\n",
            "My son and I had the most amazing dim sum meal in Shanghai. From the moment we were shown our table, we were treated royalty. The Shanghai soup dumplings, sui mai and shrimp dumplings were delicious. We ordered the BBQ pork but they were out...More\n",
            "Dear lilyw619, Warmest greetings from the Ritz-Carlton Shanghai Pudong and thank you for your reviews on TripAdvisor community. It is our pleasure to know that you have enjoyed a memorable meal in Jinxuan. I am delighted that our excellent food and service could meet your...More\n",
            "I had a lovely dinner there with my friend, as my pre-birthday kickoff. We enjoyed all food we ordered, they are tasty and well presented. Besides, would like to sincerely thanks to our waitress Winnie and Claire, both of them are sweet and attentive, give...More\n",
            "Dear Lynette0708, Warmest greetings from the Ritz-Carlton Shanghai Pudong and thank you for your reviews on TripAdvisor community. It is our pleasure to know that you have enjoyed a memorable meal in Jinxuan. I am delighted that our excellent food and service could meet your...More\n",
            "Being living in Shanghai, i've been in several excellent cantonese restaurant i have to recon the place serve high quality food but it is quite boring in the restaurant frankly, and there is no surprise in the menu of interpretations of the classics. also it...More\n",
            "Dear emmaandtheworld2, Thank you for sharing feedback on your recent dining experience with us. I am very sorry to hear of the experience you had at JinXuan. Firstly, I would like to thank you for your valuable feedback that I have addressed these matters with...More\n",
            "Impressive with the service and warm welcome especially Jacky service including others staff, Excellent food and support teams. It was fantastic view from 53rd floor. We love this place.More\n",
            "Dear som2559, Warmest greetings from the Ritz-Carlton Shanghai Pudong and thank you for your reviews on TripAdvisor community. It is our pleasure to know that you have enjoyed a memorable meal in Jinxuan. I am delighted that our excellent food and service could meet your...More\n",
            "i do simply not understand how this restaurant get 5 stars review.. it is way too expensive for what you get , service is ok but nothing close to a 5 stars hotel. old school classique boooooooring , sorry but not my cup of teaMore\n",
            "Dear Yann878, Thank you for taking the time to complete a review on TripAdvisor and allowing me to contact you directly about the challenges you faced during your recent dining moments. Unfortunately, we did not meet your expectations, nor did we live up to the...More\n",
            "Restaurant Jin Xuan has become a habit of mine. Every time I come back to Shanghai, I always come here for Brunch or Afternoon Tea. They serve classic Cantonese Dim Sum with panache, making every dish to order. Their dishes all have the traditional Cantonese...More\n",
            "Dear cristallos, Warmest greetings from the Ritz-Carlton Shanghai Pudong and thank you for your reviews on TripAdvisor community. It is our pleasure to know that you have enjoyed a memorable meal in Jinxuan. I am delighted that our excellent food and service could meet your...More\n",
            "This is an higly recommended restaurant for lovers of high level chinese cuisine. Everything was fantastic; service with Helena and her staff, kind, polite, thoughfull, careful and speaking a very good English too; food, excelent made by good hands and high level quality ingredients; location...More\n",
            "Dear Naimamo, Warmest greetings from the Ritz-Carlton Shanghai Pudong and thank you for your reviews on TripAdvisor community. It is our pleasure to know that you have enjoyed a memorable meal in Jinxuan. I am delighted that our excellent food and service could meet your...More\n",
            "Dinner was a choice of three menus,all were a sampling of unique prepared Chinese epicurean delights,our party of four were surprised ..or surprised. Be prepared for a very,very expensive bill,1500.00 American dollars for four people! Do you want to judge on your own?More\n",
            "Dear Skipperchris-401, Thank you for your time letting us know how you felt during your last visit in our Jin Xuan restaurant. We regret to know that your experiences was not up to your expectation. Your feedback is extremely important to us, please be assured...More\n",
            "Janice was super awesome with us, helping us to select the most delicious food! I've been traveling for all China for 5 years and certainly in Shanghai it's one of my number one Chinese restaurant. Come and enjoyMore\n",
            "Dear HildaFuentes, Warmest greetings from the Ritz-Carlton Shanghai Pudong and thank you for your reviews on TripAdvisor community. It is our pleasure to know that you have enjoyed a memorable meal in Jinxuan. I am delighted that our excellent food and service could meet your...More\n",
            "I never thought in this life time that I would witness an elevated level of cantonese food until now. What a delightful luxury experience both from culinary and service, not to mention the facilities (private room dining) and the impressive view. Never did i ever...More\n",
            "Dear James L, Warmest greetings from the Ritz-Carlton Shanghai Pudong and thank you for your reviews on TripAdvisor community. It is our pleasure to know that you have enjoyed a memorable meal in Jinxuan. I am delighted that our excellent food and service could meet...More\n",
            "I had dinner with my mom, and Vera & Janice were amazing and hospitable (water or tea never went empty). The food is flavorful and delicate, except the XO and hot sauces that packed quite the yummy punch. Highly recommend the bamboo clams cold app,...More\n",
            "Dear SXC90, Warmest greetings from the Ritz-Carlton Shanghai Pudong and thank you for your reviews on TripAdvisor community. It is our pleasure to know that you have enjoyed a memorable meal in Jinxuan. I am delighted that our excellent food and service could meet your...More\n",
            "I was in Shanghai, on an international tour with United Nations Youth New Zealand. A friend and I stumbled upon this restaurant following a visit to the Shanghai Tower. The overall service of this restaurant was exquisite. We were fortunate enough to have such incredible...More\n",
            "Dear h_isforhayley, Warmest greetings from the Ritz-Carlton Shanghai Pudong and thank you for your reviews on TripAdvisor community. It is our pleasure to know that you have enjoyed a memorable meal in Jinxuan. I am delighted that our excellent food and service could meet your...More\n",
            "I was travelling through Shanghai on an international tour with UN Youth NZ. On a whim me and one of my friends decided to try this restaurant. I have never had service of such quality before. Our waiting staff, Claude (李宏郅), Nancy and Rachel conducted...More\n",
            "Dear nathanstravel, Warmest greetings from the Ritz-Carlton Shanghai Pudong and thank you for your reviews on TripAdvisor community. It is our pleasure to know that you have enjoyed a memorable meal in Jinxuan. I am delighted that our excellent food and service could meet your...More\n",
            "We could not have asked for a better final meal on our trip to China. The view was fantastic, and the service, especially from our waiter, Johnson, was perfect. He expertly recommended the perfect amount of dishes and explained the history of each one and...More\n",
            "Dear royceb856, Warmest greetings from the Ritz-Carlton Shanghai Pudong and thank you for your reviews on TripAdvisor community. It is our pleasure to know that you have enjoyed a memorable meal in Jinxuan. I am delighted that our excellent food and service could meet your...More\n",
            "Ate here with my wife. We were sat in a private booth overlooking the bund. The view was incredible. Johnson was our main server and was amazing. He spent a lot of time making sure we enjoyed every aspect of the meal. He also wrote...More\n",
            "Dear mcgreen2, Warmest greetings from the Ritz-Carlton Shanghai Pudong and thank you for your reviews on TripAdvisor community. It is our pleasure to know that you have enjoyed a memorable meal in Jinxuan. I am delighted that our excellent food and service could meet your...More\n",
            "Great experience! Excellent food and view! Great service and food recommendation by Jacky and Joy! Thanks.More\n",
            "Dear Rzyh, Warmest greetings from the Ritz-Carlton Shanghai Pudong and thank you for your reviews on TripAdvisor community. It is our pleasure to know that you have enjoyed a memorable meal in Jinxuan. I am delighted that our excellent food and service could meet your...More\n",
            "Simply beyond description. After a week of street food and basic fare, my wife and I enjoyed our final evening in Shanghai by treating ourselves to a \"fine dining\" experience and Jin Xuan was our choice. We selected Chef Daniel's Signature Menu, an 8-course epicurean...More\n",
            "Dear jetfl51, Warmest greetings from the Ritz-Carlton Shanghai Pudong and thank you for your reviews on TripAdvisor community. It is our pleasure to know that you have enjoyed a memorable meal in Jinxuan. I am delighted that our excellent food and service could meet your...More\n",
            "The best restaurant in Shanghai. Food, place, atmosphere - everything was perfect! I would like to thank nice servants , especially Jenice, and Helena for their friendly and professional service. Certanly I will visit Jin Xuan again ! MarkMore\n",
            "Dear MARKSHANGHAI, Warmest greetings from the Ritz-Carlton Shanghai Pudong and thank you for your reviews on TripAdvisor community. It is our pleasure to know that you have enjoyed a memorable meal in Jinxuan. I am delighted that our excellent food and service could meet your...More\n",
            "The food was amazing and the restaurant was beautiful. We had spectacular service Ellie took great care of us. Portions are on the smaller side so when I ordered the homemade tofu with gluten they brought my a half. It was so good I immediately...More\n",
            "Dear ravegan, Warmest greetings from the Ritz-Carlton Shanghai Pudong and thank you for your reviews on TripAdvisor community. It is our pleasure to know that you have enjoyed a memorable meal in Jinxuan. I am delighted that our excellent food and service could meet your...More\n",
            "We dined at Jin Xuan for dinner and had a delightful time! The service was impeccable and the view can't be beat! The decor was also intriguing - gorgeous vaulted ceiling and a blossoming cheery tree at the entrance. The food was authentic and a...More\n",
            "Dear jlgourley, Warmest greetings from the Ritz-Carlton Shanghai Pudong and thank you for your reviews on TripAdvisor community. It is our pleasure to know that you have enjoyed a memorable meal in Jinxuan. I am delighted that our excellent food and service could meet your...More\n",
            "Perfect in every angle, top notch service same as food, nice decoration and stunning view. I don’t have anything to complain except rated as five stars.More\n",
            "Dear suthinee87, Warmest greetings from the Ritz-Carlton Shanghai Pudong and thank you for your reviews on TripAdvisor community. It is our pleasure to know that you have enjoyed a memorable meal in Jinxuan. I am delighted that our excellent food and service could meet your...More\n",
            "Amazing food, super service and wonderful views. We went and did not know a lot about Chinese food etiquette but we cared for by diligent staff especially Lilac who was brilliant, thank you!More\n",
            "Dear Wilma5817, Warmest greetings from the Ritz-Carlton Shanghai Pudong and thank you for your reviews on TripAdvisor community. It is our pleasure to know that you have enjoyed a memorable meal in Jinxuan. I am delighted that our excellent food and service could meet your...More\n",
            "Have been to China many times but this was our first time at the Jin Xuan located in the Ritz-Carlton hotel and it was unbelievable experience of Chinese haute cuisine and outstanding service. The entire wait staff works hard to make sure that you have...More\n",
            "Dear Paisan P, Warmest greetings from the Ritz-Carlton Shanghai Pudong and thank you for your reviews on TripAdvisor community. It is our pleasure to know that you have enjoyed a memorable meal in Jinxuan. I am delighted that our excellent food and service could meet...More\n",
            "This was our final meal of our trip to shanghai, and what a way to finish. Tremendous food and the service was both personal and impeccable. Thank you, Lilac, for taking such wonderful care of us all evening.More\n",
            "Dear W9613LScharlesa, Warmest greetings from the Ritz-Carlton Shanghai Pudong and thank you for your reviews on TripAdvisor community. It is our pleasure to know that you have enjoyed a memorable meal in Jinxuan. I am delighted that our excellent food and service could meet your...More\n",
            "Jin Xuan offers a phenomenal experience of Chinese haute cuisine and impeccable service. Located within the Ritz-Carlton hotel, it offers also amazing views of the Bund and Shanghai in general from its 53rd floor location. While the restaurant is expensive within the context of Shanghai...More\n",
            "Dear martinmA4471ZR, Warmest greetings from the Ritz-Carlton Shanghai Pudong and thank you for your reviews on TripAdvisor community. It is our pleasure to know that you have enjoyed a memorable meal in Jinxuan. I am delighted that our excellent food and service could meet your...More\n",
            "The decor, the view and the atmosphere are all world class. We had booked asking for a table near a window. They obliged; we dined with a fantastic view of the Bund. They offered us a complementary glass of champagne, which we enjoyed listening to...More\n",
            "Dear tripolivi, Warmest greetings from the Ritz-Carlton Shanghai Pudong and thank you for your reviews on TripAdvisor community. It is our pleasure to know that you have enjoyed a memorable meal in Jinxuan. I am delighted that our excellent food and service could meet your...More\n",
            "Hard to imagine there is a finer dining experience in all of Shanghai. The views are exceptional, but the cuisine and service are both worth the trip alone. Amazingly fresh ingredients and top tier wine list. Leo was terrific.More\n",
            "Dear gregorfeige, Warmest greetings from the Ritz-Carlton Shanghai Pudong and thank you for your reviews on TripAdvisor community. It is our pleasure to know that you have enjoyed a memorable meal in Jinxuan. I am delighted that our excellent food and service could meet your...More\n",
            "I have visited Jin Xuan on April 4th, 2019 with my two friends (from USA & India)… I have visited Shanghai several times but this is my first time to visit Jin Xuan.... As soon as arriving, I have appreciated with fantastic view of Wai...More\n",
            "Dear Kie Tae S, Warmest greetings from the Ritz-Carlton Shanghai Pudong and thank you for your reviews on TripAdvisor community. It is our pleasure to know that you have enjoyed a memorable meal in Jinxuan. I am delighted that our excellent food and service could...More\n",
            "I came for my birthday and they had prepared a rose filled table with an exceptional view. Service was superb. Claire, Lyra, Claude were very attentive. Food was excellent and tasty. Will come back for moreMore\n",
            "Dear Wonsanfood, Warmest greetings from the Ritz-Carlton Shanghai Pudong and thank you for your reviews on TripAdvisor community. It is our pleasure to know that you have enjoyed a memorable meal in Jinxuan. I am delighted that our excellent food and service could meet your...More\n"
          ]
        }
      ],
      "source": [
        "wd.get(\"https://www.tripadvisor.com/Restaurant_Review-g308272-d2661749-Reviews-Jin_Xuan_Chinese_Restaurant-Shanghai.html\")\n",
        "for i in range(1,5):\n",
        "  titles = wd.find_elements(By.XPATH, \"//div//p[@class='partial_entry']\")\n",
        "  #more = wait.until(ec.element_to_be_clickable((By.XPATH, \"//div//p//span[@class='taLnk ulBlueLinks']\")))\n",
        "  #more.click()\n",
        "  for j  in titles:\n",
        "    print(j.text);\n",
        "  # print(titles[0].text)\n",
        "  # print(titles[1].text)\n",
        "  # print(titles[2].text)\n",
        "  # print(titles[3].text)\n",
        "  next_page = wait.until(ec.element_to_be_clickable((By.XPATH, \"//div//a[@class = 'pageNum '][\" + str(i) + \"]\")))\n",
        "  next_page.click()\n",
        "  \n",
        "  page_count = page_count + 1\n",
        "  time.sleep(5)\n",
        "\n"
      ]
    },
    {
      "cell_type": "markdown",
      "metadata": {
        "id": "sYPY9hK2qhxc"
      },
      "source": [
        ""
      ]
    },
    {
      "cell_type": "markdown",
      "metadata": {
        "id": "02e7iEXGu4Du"
      },
      "source": [
        "## 正式爬蟲"
      ]
    },
    {
      "cell_type": "code",
      "execution_count": null,
      "metadata": {
        "colab": {
          "base_uri": "https://localhost:8080/",
          "height": 315
        },
        "id": "YbNzXOXNmeay",
        "outputId": "37c50bca-3e37-4f06-ce4c-cf12e5890410"
      },
      "outputs": [
        {
          "output_type": "stream",
          "name": "stdout",
          "text": [
            "p: 1\n",
            "p: 2\n",
            "p: 3\n",
            "p: 4\n"
          ]
        },
        {
          "output_type": "error",
          "ename": "NameError",
          "evalue": "ignored",
          "traceback": [
            "\u001b[0;31m---------------------------------------------------------------------------\u001b[0m",
            "\u001b[0;31mNameError\u001b[0m                                 Traceback (most recent call last)",
            "\u001b[0;32m<ipython-input-10-87e17ca10752>\u001b[0m in \u001b[0;36m<module>\u001b[0;34m()\u001b[0m\n\u001b[1;32m     99\u001b[0m \u001b[0;34m\u001b[0m\u001b[0m\n\u001b[1;32m    100\u001b[0m \u001b[0;31m# for i in range(0 , )\u001b[0m\u001b[0;34m\u001b[0m\u001b[0;34m\u001b[0m\u001b[0;34m\u001b[0m\u001b[0m\n\u001b[0;32m--> 101\u001b[0;31m \u001b[0mjsdic\u001b[0m \u001b[0;34m=\u001b[0m \u001b[0mjson\u001b[0m\u001b[0;34m.\u001b[0m\u001b[0mdumps\u001b[0m\u001b[0;34m(\u001b[0m\u001b[0mprsn\u001b[0m\u001b[0;34m,\u001b[0m \u001b[0mdefault\u001b[0m\u001b[0;34m=\u001b[0m\u001b[0;32mlambda\u001b[0m \u001b[0mo\u001b[0m\u001b[0;34m:\u001b[0m \u001b[0;34m'<not serializable>'\u001b[0m\u001b[0;34m,\u001b[0m\u001b[0mensure_ascii\u001b[0m\u001b[0;34m=\u001b[0m\u001b[0;32mFalse\u001b[0m\u001b[0;34m,\u001b[0m\u001b[0mindent\u001b[0m\u001b[0;34m=\u001b[0m\u001b[0;36m4\u001b[0m\u001b[0;34m,\u001b[0m \u001b[0msort_keys\u001b[0m\u001b[0;34m=\u001b[0m\u001b[0;32mTrue\u001b[0m\u001b[0;34m)\u001b[0m\u001b[0;34m\u001b[0m\u001b[0;34m\u001b[0m\u001b[0m\n\u001b[0m\u001b[1;32m    102\u001b[0m \u001b[0;31m# jsdic = json.dumps(prsn)  #轉成json並寫入 google drive\u001b[0m\u001b[0;34m\u001b[0m\u001b[0;34m\u001b[0m\u001b[0;34m\u001b[0m\u001b[0m\n\u001b[1;32m    103\u001b[0m \u001b[0;32mwith\u001b[0m \u001b[0mopen\u001b[0m\u001b[0;34m(\u001b[0m\u001b[0;34m'/content/drive/My Drive/Colab Notebooks/TripadvisorCrawling.json'\u001b[0m\u001b[0;34m,\u001b[0m \u001b[0;34m'w'\u001b[0m\u001b[0;34m,\u001b[0m \u001b[0mencoding\u001b[0m\u001b[0;34m=\u001b[0m\u001b[0;34m'utf-8'\u001b[0m\u001b[0;34m)\u001b[0m \u001b[0;32mas\u001b[0m \u001b[0mf\u001b[0m\u001b[0;34m:\u001b[0m\u001b[0;34m\u001b[0m\u001b[0;34m\u001b[0m\u001b[0m\n",
            "\u001b[0;31mNameError\u001b[0m: name 'prsn' is not defined"
          ]
        }
      ],
      "source": [
        "\n",
        "wait = WebDriverWait(wd, 20)\n",
        "\n",
        "page_count = 1\n",
        "#利用user_agent 去躲避反爬蟲\n",
        "# dictionary -> list \n",
        "dic = {\"title_keys\" : [],\n",
        "    \"comment_keys\" : [],\n",
        "    \"rating_keys\" : [],\n",
        "    \"comment_time\": []}\n",
        "\n",
        "\n",
        "comments = []\n",
        "ratings = []\n",
        "titles = []\n",
        "def webcrawling():\n",
        "  #parameter\n",
        "  \n",
        "\n",
        "  \n",
        "  comment_times_htmls = []\n",
        "  comment_times = []\n",
        "  # title\n",
        "  titles = wd.find_elements(By.XPATH, \"//div[@class='fpMxB MC _S b S6 H5 _a']//span//span\")\n",
        "\n",
        "  for title in titles:\n",
        "    dic['title_keys'].append(title.text)\n",
        "  time.sleep(10)\n",
        "  # comment\n",
        "  comments = wd.find_elements(By.XPATH, \"//q[@class='XllAv H4 _a']//span\")\n",
        "  for comment in comments:\n",
        "    dic['comment_keys'].append(comment.text)\n",
        "\n",
        "  # rating\n",
        "  ratings = wd.find_elements(By.XPATH, \"//div[@class = 'emWez F1']//span\")\n",
        "  # 判斷是幾星評論\n",
        "  for rating in ratings: \n",
        "    if(rating.get_attribute(\"class\") == \"ui_bubble_rating bubble_50\"):\n",
        "      dic['rating_keys'].append(\"5 STARS\")\n",
        "    if(rating.get_attribute(\"class\") == \"ui_bubble_rating bubble_40\"):\n",
        "      dic['rating_keys'].append(\"4 STARS\")\n",
        "    if(rating.get_attribute(\"class\") == \"ui_bubble_rating bubble_30\"):\n",
        "      dic['rating_keys'].append(\"3 STARS\")\n",
        "    if(rating.get_attribute(\"class\") == \"ui_bubble_rating bubble_20\"):\n",
        "      dic['rating_keys'].append(\"2 STARS\")\n",
        "    if(rating.get_attribute(\"class\") == \"ui_bubble_rating bubble_10\"):\n",
        "      dic['rating_keys'].append(\"1 STARS\")\n",
        "\n",
        "  #comment time\n",
        "  comment_times_htmls = wd.find_elements(By.XPATH,\"//div[@class = 'bcaHz']//span\")\n",
        "  for comment_time_html in comment_times_htmls:\n",
        "    if comment_time_html.text[-8:-7] == str(2):\n",
        "      dic['comment_time'].append(comment_time_html.text[-8:])\n",
        "    else:\n",
        "      dic['comment_time'].append(comment_time_html.text[-7:])\n",
        "\n",
        "#變成比較像 json 的 dictionary form\n",
        "def jsoncrawling():\n",
        "  count = 0\n",
        "  titles_new = []\n",
        "  comments_new = []\n",
        "  rating_star = []\n",
        "  prsn = {} #dictionary\n",
        "  for title in titles:\n",
        "    titles_new.append(title.text)\n",
        "    count += 1\n",
        "  for comment in comments:\n",
        "    comments_new.append(comment.text)\n",
        "  for rating in ratings:\n",
        "    if(rating.get_attribute(\"class\") == \"ui_bubble_rating bubble_50\"):\n",
        "      rating_star.append(\"5 STARS\")\n",
        "    if(rating.get_attribute(\"class\") == \"ui_bubble_rating bubble_40\"):\n",
        "      rating_star.append(\"4 STARS\")\n",
        "    if(rating.get_attribute(\"class\") == \"ui_bubble_rating bubble_30\"):\n",
        "      rating_star.append(\"3 STARS\")\n",
        "    if(rating.get_attribute(\"class\") == \"ui_bubble_rating bubble_20\"):\n",
        "      rating_star.append(\"2 STARS\")\n",
        "    if(rating.get_attribute(\"class\") == \"ui_bubble_rating bubble_10\"):\n",
        "      rating_star.append(\"1 STARS\")\n",
        "  for i in range(0, count):\n",
        "    prsn[\"person \" + str(i + 1)] = {\"title_key\" : '',  \"comment_key\" : '',   \"rating_key\" : ''}\n",
        "  for i in range(1, count+1):\n",
        "    prsn['person '+str(i)]['title_key'] = titles_new[i-1]\n",
        "    prsn['person '+str(i)]['comment_key'] = comments_new[i-1]\n",
        "    prsn['person '+str(i)]['rating_key'] = rating_star[i-1]\n",
        "\n",
        "\n",
        "for p in range(1,5):\n",
        "  webcrawling()\n",
        "  jsoncrawling()\n",
        "  \n",
        "  print(\"p: \" + str(p))\n",
        "  next_page = wait.until(ec.element_to_be_clickable((By.XPATH, \"//div//a[@class = 'pageNum '][\" + str(p) + \"]\")))\n",
        "  next_page.click()\n",
        "  page_count = page_count + 1\n",
        "  time.sleep(5)\n",
        "\n",
        "\n",
        "\n",
        "# for i in range(0 , )\n",
        "jsdic = json.dumps(prsn, default=lambda o: '<not serializable>',ensure_ascii=False,indent=4, sort_keys=True)\n",
        "# jsdic = json.dumps(prsn)  #轉成json並寫入 google drive\n",
        "with open('/content/drive/My Drive/Colab Notebooks/TripadvisorCrawling.json', 'w', encoding='utf-8') as f:\n",
        "  f.write(jsdic)\n",
        "  f.close\n",
        "drive.flush_and_unmount()\n",
        "\n",
        "\n",
        "print(\"////////////////////////////////////////////////////\")\n",
        "time.sleep(10)\n",
        "wd.quit()"
      ]
    },
    {
      "cell_type": "code",
      "execution_count": null,
      "metadata": {
        "colab": {
          "base_uri": "https://localhost:8080/"
        },
        "id": "T3UnnuXTRCUz",
        "outputId": "f1dc0bdd-18e0-460e-b42b-6def908291a0"
      },
      "outputs": [
        {
          "name": "stdout",
          "output_type": "stream",
          "text": [
            "2\n"
          ]
        }
      ],
      "source": [
        "print(page_count)"
      ]
    },
    {
      "cell_type": "markdown",
      "metadata": {
        "id": "yEQCMPUMi1uo"
      },
      "source": [
        "## 印出dic"
      ]
    },
    {
      "cell_type": "code",
      "execution_count": null,
      "metadata": {
        "colab": {
          "base_uri": "https://localhost:8080/"
        },
        "id": "n2-l5YFKi1ds",
        "outputId": "4c4b61ea-03c8-48d9-d476-a8ca0581f667"
      },
      "outputs": [
        {
          "name": "stdout",
          "output_type": "stream",
          "text": [
            "title_keys\n",
            "comment_keys\n",
            "rating_keys\n",
            "comment_time\n"
          ]
        }
      ],
      "source": [
        "for i in dic:\n",
        "  print(i)"
      ]
    },
    {
      "cell_type": "code",
      "execution_count": null,
      "metadata": {
        "colab": {
          "base_uri": "https://localhost:8080/"
        },
        "id": "s9bLuEzqjkOv",
        "outputId": "815b68de-2dd0-462f-98de-228a0a1e0d53"
      },
      "outputs": [
        {
          "name": "stdout",
          "output_type": "stream",
          "text": [
            "值得一去的飯店\n",
            "美好回憶的旅行\n",
            "春節假期前涵碧樓\n",
            "極簡、禪風、Ongoing Style。\n",
            "適合約會，不宜親子\n",
            "曾經風光的雅致渡假飯店\n",
            "風景無敵東方餐廳菜色普通用餐環境壅擠\n",
            "最美的風景是房間內的蜘蛛絲\n",
            "訂出高房價，就應該提供住客高品質的住宿經驗！涵碧樓該往前走了 !\n",
            "旅館管理需要加強，旅客隱私沒有保障\n",
            "古典飯店\n",
            "環境優美\n",
            "高質感的住宿環境\n",
            "美好的地方\n",
            "地理位置和服務極佳的飯店、有很棒的三溫暖澡堂、飲食水平差強人意\n",
            "悠閒的地方\n",
            "最喜歡的飯店\n",
            "完美的家庭休閒\n",
            "20190402～0403 第二次住\n",
            "超級棒！！！\n"
          ]
        }
      ],
      "source": [
        "for i in range(0,len(dic['title_keys'])):\n",
        "  print(dic.get(\"title_keys\")[i])"
      ]
    },
    {
      "cell_type": "markdown",
      "metadata": {
        "id": "qc1T975avBat"
      },
      "source": [
        "## 印出 dictionary"
      ]
    },
    {
      "cell_type": "code",
      "execution_count": null,
      "metadata": {
        "colab": {
          "base_uri": "https://localhost:8080/"
        },
        "id": "5OMrbGrDKviG",
        "outputId": "0e708036-19d0-4244-d36b-7eb13bec79a4"
      },
      "outputs": [
        {
          "name": "stdout",
          "output_type": "stream",
          "text": [
            "person 1\n",
            "title_key :  渾然天成的美景\n",
            "comment_key :  相較於華麗浮誇的裝飾，涵碧樓的住宿體驗像回到家的自在，木質調的房間寬敞舒適，打開窗外將日月潭美景近收眼底，令人回味無窮。\n",
            "rating_key :  5 STARS\n",
            "person 2\n",
            "title_key :  超級推薦的頂級飯店！\n",
            "comment_key :  頂級的待客服務與美景，住過就永難忘卻那邊的美好，超五星頂級飯店當之無愧。 有著無敵的湖景與以客為尊的服務著名，游泳池也是標準的50米，在這邊可以完全的放鬆，遠離塵囂，好好享受悠閒的度假時光。\n",
            "rating_key :  5 STARS\n",
            "person 3\n",
            "title_key :  Villa的泳池水質很棒\n",
            "comment_key :  入住Villa房型總是會對私人泳池有些期待，之前有遇過泳池太小或者泳池水質不夠清潔，讓人不敢下水游泳。淪為泡腳池。然而涵碧樓Villa的泳池相當寬敞，而且水質清澈，讓人相當舒適放鬆。非常棒！\n",
            "rating_key :  5 STARS\n",
            "person 4\n",
            "title_key :  氛圍服務硬體都棒，父母孩子三代六人享受了一次難以忘懷的旅遊。\n",
            "comment_key :  歷史位置創新建築，獨一無二無可取代。服務人員誠懇有經驗，三天兩夜都在飯店裡游走，感受禪意，簡約寧靜。不僅一生要來一次，每年都要來。涵碧樓常駐我心。沐浴用品可再升級。\n",
            "rating_key :  5 STARS\n",
            "person 5\n",
            "title_key :  期待值太高⋯⋯⋯⋯⋯\n",
            "comment_key :  住過太多飯店，對涵碧樓是相對有期待的，但入住過後，就覺得非常普通，躺在床上，沒想到肩膀上一陣刺痛，以爲漏電，沒想到又在次感到刺痛，尋找發現枕頭上一隻大紅蟻。早餐服務人員素質也有待加強，入座後詢問要咖啡或茶，等了很久還是沒來，像是忘了⋯⋯⋯⋯，有住過就好，沒什麼重複入住的興趣。\n",
            "rating_key :  2 STARS\n",
            "person 6\n",
            "title_key :  值得一去的飯店\n",
            "comment_key :  整體服務品質都很好，房間很大，提供嬰兒床、浴盆、消毒鍋。疫情期間早餐比較凌亂點其他還不錯。日月潭最美的景色從陽台就可以看得到了。\n",
            "rating_key :  5 STARS\n",
            "person 7\n",
            "title_key :  美好回憶的旅行\n",
            "comment_key :  每年都會來涵碧樓渡假，從下車到進大廳，服務人員都對我們親切的問候，感覺很溫馨。這次的旅行是為了慶祝週年紀念，謝謝涵碧樓準備的花盒，很美.讓我們很開心感動..很喜歡這裏的氣氛，任何一個角落都很美.飯店質感和服務很好，風景很優美..會讓人一來再來..\n",
            "rating_key :  5 STARS\n",
            "person 8\n",
            "title_key :  春節假期前涵碧樓\n",
            "comment_key :  春節假期前，突然訂到涵碧樓！就提早由台北回來台中，隔天到日月潭18000屬於2-3樓，位置特別拜託才給我們泳池正上面三樓，View挺好可惜空污浪費這好山好水。服務接待有超五星等級。建築物是有點老舊設施也看出歲月！但不影響心情，房內空間寬敞感受寧靜，思考的好地方！\n",
            "rating_key :  5 STARS\n",
            "person 9\n",
            "title_key :  極簡、禪風、Ongoing Style。\n",
            "comment_key :  四時皆美的日月潭，有如移光借影的明鏡，現在的涵碧樓很不一樣! 喜歡漫步泳池畔，大廳兩旁，一樓的瀑布竹林水池和通往涵碧步道的泳池旁小徑到涵碧步道，很棒的一次家庭旅行。一家三人開了二個房(連通房)的確住的舒適，但兒子的房間落塵灰塵異常的多，鼻子過敏不舒服，小遺憾。\n",
            "rating_key :  5 STARS\n",
            "person 10\n",
            "title_key :  適合約會，不宜親子\n",
            "comment_key :  涵碧樓的服務人員相對雲品來說比較專業，從停車至大廳門口開始，都有人帶領，check in後至大廳等待，有好喝的梅子紅茶，還有味道非常不錯的溫熱毛巾，之後也有專人帶領介紹環境和客房，服務態度有五星級飯店的水準。客房古樸，湖景極佳，很適合情侶夫妻來放鬆約會。沒有親子設施，所以帶小孩來我還是會選擇雲品。藝術品商店的店員服務業很好，且對商品的解說詳盡，給予高度好評。\n",
            "rating_key :  5 STARS\n",
            "person 11\n",
            "title_key :  古典飯店\n",
            "comment_key :  跨年選擇來這裡過，整體上很靜悠，很古典的氛圍，房間是木質家具跟許多花的擺飾。飯店設備最令我印象深刻的是湯池，可以白天跟晚上都來泡一下，景色不錯。房間硬體方面，其實比較中規中矩，感覺沒有更新，電視跟音響設備是舊式,似乎不是很好操控跟使用。整體飯店屬於比較昏暗，如果喜歡明亮的旅客，可能會不習慣。\n",
            "rating_key :  4 STARS\n",
            "person 12\n",
            "title_key :  環境優美\n",
            "comment_key :  氣氛沈靜、環境優美，觀景平台面對日月潭湖景，非常壯觀，服務人員態度良好，部分設施比較舊式，可以再加強！\n",
            "rating_key :  4 STARS\n",
            "person 13\n",
            "title_key :  高質感的住宿環境\n",
            "comment_key :  久聞涵碧樓的高質感住宿環境，終於有幸一窺它的真面目。入口大廳處其實是位於飯店的八樓，從八樓俯視日月潭美景，真的美不勝收，房間內的擺設都很簡單有質感，整個飯店散發一股寧靜的氛圍，真的很適合來這裡住夜晚遠離塵囂。\n",
            "rating_key :  5 STARS\n",
            "person 14\n",
            "title_key :  美好的地方\n",
            "comment_key :  日月潭涵碧酒店很漂亮。房間很大（套房），陽台很大，可以看到美麗的湖面。這家中餐館很好。所有的人都像預想的一樣友好，而且非常乾淨。同時夜床服務也非常好。在一個神奇地區的美好經歷！\n",
            "rating_key :  5 STARS\n",
            "person 15\n",
            "title_key :  地理位置和服務極佳的飯店、有很棒的三溫暖澡堂、飲食水平差強人意\n",
            "comment_key :  住的是家庭式四人房（一主臥一客臥房），位置風景沒話說得棒，房間的風格極有禪意、大多由實木打造，服務生的態度絕對有五星級的水準，很讓人有身心放鬆之感。泳池是室外的，所以可惜入住時雨天沒有使用到，但室內的三溫暖非常推薦（須額外加價$300/人），白天同時可通透室外風光。唯一不足的，大概就是餐廳和早餐顯得非常普通，對飲食較為講究者可能要考慮再三，另外，房間內偶爾可見小強和蒼蠅，也是需要改進的地方吧！\n",
            "rating_key :  4 STARS\n",
            "person 16\n",
            "title_key :  悠閒的地方\n",
            "comment_key :  風景優美， 服務很親切，不同節日有不同的活動，很適合渡假，唯一的小小缺點，是湖光軒中餐廳的餐還好。下次還會再入住。\n",
            "rating_key :  5 STARS\n",
            "person 17\n",
            "title_key :  最喜歡的飯店\n",
            "comment_key :  這是我們全家第九次入住涵碧樓，因為這裡的景觀和寧靜，都是我們很喜歡的。每一次退房時，我們也都會在飯店門口拍照留念，所以，看著十年來孩子在門口留下的身影逐漸成長，是非常有紀念價值的，希望涵碧樓門口的桌椅和盆栽要繼續維持唷！ 因為我們每次入住都喜歡待在安靜的飯店裡看書、看電影，所以希望涵碧樓圖書館內可以借閱的書籍和影片可以更新，尤其可出借的影片都頗老舊了，有點可惜。 這次在東方餐廳享用自助式晚餐，菜色豐富，口味也很不錯，期待下次再見囉 ～\n",
            "rating_key :  5 STARS\n",
            "person 18\n",
            "title_key :  完美的家庭休閒\n",
            "comment_key :  嚮往許久的日月潭涵碧樓，從老涵碧樓史蹟，隱身林間，來自Kerry Hill 木質低調現代風建築。 站在窗台眺望，清晨水墨色中的光華島，慈恩塔，遠高於預期。 每一位職工夥伴，親切貼心，真誠問候！ 值得！ 我們會再來的！\n",
            "rating_key :  5 STARS\n",
            "person 19\n",
            "title_key :  20190402～0403 第二次住\n",
            "comment_key :  20190402～0403 第二次住 湖景套房 1606 6樓 可惜不是最高樓7樓 但還是很棒 時尚之旅 16720 晚餐 沒有搭一泊二食 禪風之旅 19998 但是 還是吃 湖光軒中餐廳 單點 花費 2013 好吃 沒什麼好說 超棒 還會再來住\n",
            "rating_key :  5 STARS\n",
            "person 20\n",
            "title_key :  超級棒！！！\n",
            "comment_key :  涵碧樓本身就相當有名，一到飯店服務就非常周到，等待check in 的時候服務人員會提供迎賓飲料還有小點心。房間非常大且舒適，住在面湖的房間，景色超美！！！ 飯店提供的早餐及晚餐為自助式，雖然是自助式但是菜色精緻度高，種類也不少，也相當好吃。 此外飯店有SPA按摩服務（需提前預約，可記房帳）按摩有獨立房間，服務很棒。\n",
            "rating_key :  5 STARS\n"
          ]
        }
      ],
      "source": [
        "for p_id, p_info in prsn.items():\n",
        "  print(p_id)\n",
        "  for key in p_info:\n",
        "    print(key + ' : ' , p_info[key])"
      ]
    },
    {
      "cell_type": "markdown",
      "metadata": {
        "id": "IJYkOChzvJEI"
      },
      "source": [
        "## 印出 json"
      ]
    },
    {
      "cell_type": "code",
      "execution_count": null,
      "metadata": {
        "colab": {
          "base_uri": "https://localhost:8080/"
        },
        "id": "rHpHcWCFYiNJ",
        "outputId": "abc4f0e1-f0fe-4d0f-fb0b-28dfd0bb2c06"
      },
      "outputs": [
        {
          "name": "stdout",
          "output_type": "stream",
          "text": [
            "{\n",
            "    \"person 1\": {\n",
            "        \"comment_key\": \"相較於華麗浮誇的裝飾，涵碧樓的住宿體驗像回到家的自在，木質調的房間寬敞舒適，打開窗外將日月潭美景近收眼底，令人回味無窮。\",\n",
            "        \"rating_key\": \"5 STARS\",\n",
            "        \"title_key\": \"渾然天成的美景\"\n",
            "    },\n",
            "    \"person 10\": {\n",
            "        \"comment_key\": \"涵碧樓的服務人員相對雲品來說比較專業，從停車至大廳門口開始，都有人帶領，check in後至大廳等待，有好喝的梅子紅茶，還有味道非常不錯的溫熱毛巾，之後也有專人帶領介紹環境和客房，服務態度有五星級飯店的水準。客房古樸，湖景極佳，很適合情侶夫妻來放鬆約會。沒有親子設施，所以帶小孩來我還是會選擇雲品。藝術品商店的店員服務業很好，且對商品的解說詳盡，給予高度好評。\",\n",
            "        \"rating_key\": \"5 STARS\",\n",
            "        \"title_key\": \"適合約會，不宜親子\"\n",
            "    },\n",
            "    \"person 11\": {\n",
            "        \"comment_key\": \"跨年選擇來這裡過，整體上很靜悠，很古典的氛圍，房間是木質家具跟許多花的擺飾。飯店設備最令我印象深刻的是湯池，可以白天跟晚上都來泡一下，景色不錯。房間硬體方面，其實比較中規中矩，感覺沒有更新，電視跟音響設備是舊式,似乎不是很好操控跟使用。整體飯店屬於比較昏暗，如果喜歡明亮的旅客，可能會不習慣。\",\n",
            "        \"rating_key\": \"4 STARS\",\n",
            "        \"title_key\": \"古典飯店\"\n",
            "    },\n",
            "    \"person 12\": {\n",
            "        \"comment_key\": \"氣氛沈靜、環境優美，觀景平台面對日月潭湖景，非常壯觀，服務人員態度良好，部分設施比較舊式，可以再加強！\",\n",
            "        \"rating_key\": \"4 STARS\",\n",
            "        \"title_key\": \"環境優美\"\n",
            "    },\n",
            "    \"person 13\": {\n",
            "        \"comment_key\": \"久聞涵碧樓的高質感住宿環境，終於有幸一窺它的真面目。入口大廳處其實是位於飯店的八樓，從八樓俯視日月潭美景，真的美不勝收，房間內的擺設都很簡單有質感，整個飯店散發一股寧靜的氛圍，真的很適合來這裡住夜晚遠離塵囂。\",\n",
            "        \"rating_key\": \"5 STARS\",\n",
            "        \"title_key\": \"高質感的住宿環境\"\n",
            "    },\n",
            "    \"person 14\": {\n",
            "        \"comment_key\": \"日月潭涵碧酒店很漂亮。房間很大（套房），陽台很大，可以看到美麗的湖面。這家中餐館很好。所有的人都像預想的一樣友好，而且非常乾淨。同時夜床服務也非常好。在一個神奇地區的美好經歷！\",\n",
            "        \"rating_key\": \"5 STARS\",\n",
            "        \"title_key\": \"美好的地方\"\n",
            "    },\n",
            "    \"person 15\": {\n",
            "        \"comment_key\": \"住的是家庭式四人房（一主臥一客臥房），位置風景沒話說得棒，房間的風格極有禪意、大多由實木打造，服務生的態度絕對有五星級的水準，很讓人有身心放鬆之感。泳池是室外的，所以可惜入住時雨天沒有使用到，但室內的三溫暖非常推薦（須額外加價$300/人），白天同時可通透室外風光。唯一不足的，大概就是餐廳和早餐顯得非常普通，對飲食較為講究者可能要考慮再三，另外，房間內偶爾可見小強和蒼蠅，也是需要改進的地方吧！\",\n",
            "        \"rating_key\": \"4 STARS\",\n",
            "        \"title_key\": \"地理位置和服務極佳的飯店、有很棒的三溫暖澡堂、飲食水平差強人意\"\n",
            "    },\n",
            "    \"person 16\": {\n",
            "        \"comment_key\": \"風景優美， 服務很親切，不同節日有不同的活動，很適合渡假，唯一的小小缺點，是湖光軒中餐廳的餐還好。下次還會再入住。\",\n",
            "        \"rating_key\": \"5 STARS\",\n",
            "        \"title_key\": \"悠閒的地方\"\n",
            "    },\n",
            "    \"person 17\": {\n",
            "        \"comment_key\": \"這是我們全家第九次入住涵碧樓，因為這裡的景觀和寧靜，都是我們很喜歡的。每一次退房時，我們也都會在飯店門口拍照留念，所以，看著十年來孩子在門口留下的身影逐漸成長，是非常有紀念價值的，希望涵碧樓門口的桌椅和盆栽要繼續維持唷！ 因為我們每次入住都喜歡待在安靜的飯店裡看書、看電影，所以希望涵碧樓圖書館內可以借閱的書籍和影片可以更新，尤其可出借的影片都頗老舊了，有點可惜。 這次在東方餐廳享用自助式晚餐，菜色豐富，口味也很不錯，期待下次再見囉 ～\",\n",
            "        \"rating_key\": \"5 STARS\",\n",
            "        \"title_key\": \"最喜歡的飯店\"\n",
            "    },\n",
            "    \"person 18\": {\n",
            "        \"comment_key\": \"嚮往許久的日月潭涵碧樓，從老涵碧樓史蹟，隱身林間，來自Kerry Hill 木質低調現代風建築。 站在窗台眺望，清晨水墨色中的光華島，慈恩塔，遠高於預期。 每一位職工夥伴，親切貼心，真誠問候！ 值得！ 我們會再來的！\",\n",
            "        \"rating_key\": \"5 STARS\",\n",
            "        \"title_key\": \"完美的家庭休閒\"\n",
            "    },\n",
            "    \"person 19\": {\n",
            "        \"comment_key\": \"20190402～0403 第二次住 湖景套房 1606 6樓 可惜不是最高樓7樓 但還是很棒 時尚之旅 16720 晚餐 沒有搭一泊二食 禪風之旅 19998 但是 還是吃 湖光軒中餐廳 單點 花費 2013 好吃 沒什麼好說 超棒 還會再來住\",\n",
            "        \"rating_key\": \"5 STARS\",\n",
            "        \"title_key\": \"20190402～0403 第二次住\"\n",
            "    },\n",
            "    \"person 2\": {\n",
            "        \"comment_key\": \"頂級的待客服務與美景，住過就永難忘卻那邊的美好，超五星頂級飯店當之無愧。 有著無敵的湖景與以客為尊的服務著名，游泳池也是標準的50米，在這邊可以完全的放鬆，遠離塵囂，好好享受悠閒的度假時光。\",\n",
            "        \"rating_key\": \"5 STARS\",\n",
            "        \"title_key\": \"超級推薦的頂級飯店！\"\n",
            "    },\n",
            "    \"person 20\": {\n",
            "        \"comment_key\": \"涵碧樓本身就相當有名，一到飯店服務就非常周到，等待check in 的時候服務人員會提供迎賓飲料還有小點心。房間非常大且舒適，住在面湖的房間，景色超美！！！ 飯店提供的早餐及晚餐為自助式，雖然是自助式但是菜色精緻度高，種類也不少，也相當好吃。 此外飯店有SPA按摩服務（需提前預約，可記房帳）按摩有獨立房間，服務很棒。\",\n",
            "        \"rating_key\": \"5 STARS\",\n",
            "        \"title_key\": \"超級棒！！！\"\n",
            "    },\n",
            "    \"person 3\": {\n",
            "        \"comment_key\": \"入住Villa房型總是會對私人泳池有些期待，之前有遇過泳池太小或者泳池水質不夠清潔，讓人不敢下水游泳。淪為泡腳池。然而涵碧樓Villa的泳池相當寬敞，而且水質清澈，讓人相當舒適放鬆。非常棒！\",\n",
            "        \"rating_key\": \"5 STARS\",\n",
            "        \"title_key\": \"Villa的泳池水質很棒\"\n",
            "    },\n",
            "    \"person 4\": {\n",
            "        \"comment_key\": \"歷史位置創新建築，獨一無二無可取代。服務人員誠懇有經驗，三天兩夜都在飯店裡游走，感受禪意，簡約寧靜。不僅一生要來一次，每年都要來。涵碧樓常駐我心。沐浴用品可再升級。\",\n",
            "        \"rating_key\": \"5 STARS\",\n",
            "        \"title_key\": \"氛圍服務硬體都棒，父母孩子三代六人享受了一次難以忘懷的旅遊。\"\n",
            "    },\n",
            "    \"person 5\": {\n",
            "        \"comment_key\": \"住過太多飯店，對涵碧樓是相對有期待的，但入住過後，就覺得非常普通，躺在床上，沒想到肩膀上一陣刺痛，以爲漏電，沒想到又在次感到刺痛，尋找發現枕頭上一隻大紅蟻。早餐服務人員素質也有待加強，入座後詢問要咖啡或茶，等了很久還是沒來，像是忘了⋯⋯⋯⋯，有住過就好，沒什麼重複入住的興趣。\",\n",
            "        \"rating_key\": \"2 STARS\",\n",
            "        \"title_key\": \"期待值太高⋯⋯⋯⋯⋯\"\n",
            "    },\n",
            "    \"person 6\": {\n",
            "        \"comment_key\": \"整體服務品質都很好，房間很大，提供嬰兒床、浴盆、消毒鍋。疫情期間早餐比較凌亂點其他還不錯。日月潭最美的景色從陽台就可以看得到了。\",\n",
            "        \"rating_key\": \"5 STARS\",\n",
            "        \"title_key\": \"值得一去的飯店\"\n",
            "    },\n",
            "    \"person 7\": {\n",
            "        \"comment_key\": \"每年都會來涵碧樓渡假，從下車到進大廳，服務人員都對我們親切的問候，感覺很溫馨。這次的旅行是為了慶祝週年紀念，謝謝涵碧樓準備的花盒，很美.讓我們很開心感動..很喜歡這裏的氣氛，任何一個角落都很美.飯店質感和服務很好，風景很優美..會讓人一來再來..\",\n",
            "        \"rating_key\": \"5 STARS\",\n",
            "        \"title_key\": \"美好回憶的旅行\"\n",
            "    },\n",
            "    \"person 8\": {\n",
            "        \"comment_key\": \"春節假期前，突然訂到涵碧樓！就提早由台北回來台中，隔天到日月潭18000屬於2-3樓，位置特別拜託才給我們泳池正上面三樓，View挺好可惜空污浪費這好山好水。服務接待有超五星等級。建築物是有點老舊設施也看出歲月！但不影響心情，房內空間寬敞感受寧靜，思考的好地方！\",\n",
            "        \"rating_key\": \"5 STARS\",\n",
            "        \"title_key\": \"春節假期前涵碧樓\"\n",
            "    },\n",
            "    \"person 9\": {\n",
            "        \"comment_key\": \"四時皆美的日月潭，有如移光借影的明鏡，現在的涵碧樓很不一樣! 喜歡漫步泳池畔，大廳兩旁，一樓的瀑布竹林水池和通往涵碧步道的泳池旁小徑到涵碧步道，很棒的一次家庭旅行。一家三人開了二個房(連通房)的確住的舒適，但兒子的房間落塵灰塵異常的多，鼻子過敏不舒服，小遺憾。\",\n",
            "        \"rating_key\": \"5 STARS\",\n",
            "        \"title_key\": \"極簡、禪風、Ongoing Style。\"\n",
            "    }\n",
            "}\n"
          ]
        }
      ],
      "source": [
        "print(jsdic)"
      ]
    },
    {
      "cell_type": "markdown",
      "metadata": {
        "id": "vwsM3DDb0lXx"
      },
      "source": [
        "## 印出 DataFrame"
      ]
    },
    {
      "cell_type": "code",
      "execution_count": null,
      "metadata": {
        "colab": {
          "base_uri": "https://localhost:8080/"
        },
        "id": "c4mSuR15g3ai",
        "outputId": "8d358c49-569d-44e2-df05-ab0966c99e42"
      },
      "outputs": [
        {
          "name": "stdout",
          "output_type": "stream",
          "text": [
            "                          title_keys  ... comment_time\n",
            "0                            值得一去的飯店  ...     2021年11月\n",
            "1                            美好回憶的旅行  ...      2021年3月\n",
            "2                           春節假期前涵碧樓  ...      2021年2月\n",
            "3               極簡、禪風、Ongoing Style。  ...      2021年2月\n",
            "4                          適合約會，不宜親子  ...      2021年1月\n",
            "5                        曾經風光的雅致渡假飯店  ...      2021年1月\n",
            "6                 風景無敵東方餐廳菜色普通用餐環境壅擠  ...     2020年11月\n",
            "7                      最美的風景是房間內的蜘蛛絲  ...      2020年9月\n",
            "8   訂出高房價，就應該提供住客高品質的住宿經驗！涵碧樓該往前走了 !  ...      2020年6月\n",
            "9                  旅館管理需要加強，旅客隱私沒有保障  ...      2020年4月\n",
            "10                              古典飯店  ...      2020年1月\n",
            "11                              環境優美  ...     2019年12月\n",
            "12                          高質感的住宿環境  ...     2019年11月\n",
            "13                             美好的地方  ...      2019年8月\n",
            "14   地理位置和服務極佳的飯店、有很棒的三溫暖澡堂、飲食水平差強人意  ...      2019年8月\n",
            "15                             悠閒的地方  ...      2019年4月\n",
            "16                            最喜歡的飯店  ...      2019年4月\n",
            "17                           完美的家庭休閒  ...      2019年4月\n",
            "18                20190402～0403 第二次住  ...      2019年4月\n",
            "19                            超級棒！！！  ...      2019年3月\n",
            "\n",
            "[20 rows x 4 columns]\n"
          ]
        }
      ],
      "source": [
        "# 印出dataframe\n",
        "df = pd.DataFrame(dic)  \n",
        "print(df)"
      ]
    },
    {
      "cell_type": "markdown",
      "metadata": {
        "id": "aBoaxMPH8VfL"
      },
      "source": [
        "# SQL\n"
      ]
    },
    {
      "cell_type": "markdown",
      "metadata": {
        "id": "Ihp5KrNm8SAy"
      },
      "source": [
        "以下區段是SQL語法"
      ]
    },
    {
      "cell_type": "markdown",
      "metadata": {
        "id": "YpTrwqkSyRTR"
      },
      "source": [
        "## Import and create path"
      ]
    },
    {
      "cell_type": "code",
      "execution_count": null,
      "metadata": {
        "colab": {
          "base_uri": "https://localhost:8080/"
        },
        "id": "ds2W-dobVC5f",
        "outputId": "47c8255e-78e3-47c5-b030-136b38a74759"
      },
      "outputs": [
        {
          "name": "stdout",
          "output_type": "stream",
          "text": [
            "Mounted at /content/drive\n"
          ]
        }
      ],
      "source": [
        "import sqlite3\n",
        "from google.colab import drive\n",
        "import time\n",
        "import datetime\n",
        "drive.mount('/content/drive')\n",
        "myPath = '/content/drive/MyDrive/Colab Notebooks/sqlite_db/'\n",
        "conn = sqlite3.connect(myPath + 'myDatabase.db')\n",
        "c = conn.cursor()\n",
        "conn.commit()\n",
        "\n"
      ]
    },
    {
      "cell_type": "markdown",
      "metadata": {
        "id": "0tYsXU4_sLSg"
      },
      "source": [
        "## Delete Table "
      ]
    },
    {
      "cell_type": "code",
      "execution_count": null,
      "metadata": {
        "colab": {
          "base_uri": "https://localhost:8080/"
        },
        "id": "qWSAb1KqsLSn",
        "outputId": "da7a48a0-ecad-430e-847d-b3315dc98f42"
      },
      "outputs": [
        {
          "name": "stdout",
          "output_type": "stream",
          "text": [
            "Drop table successfully\n"
          ]
        }
      ],
      "source": [
        "# DELETE TABLE \n",
        "c.execute(\"DROP TABLE review_infos\")\n",
        "print(\"Drop table successfully\")\n",
        "# conn.close()"
      ]
    },
    {
      "cell_type": "markdown",
      "metadata": {
        "id": "2cju65Onx6mB"
      },
      "source": [
        "## Create and Insert Table"
      ]
    },
    {
      "cell_type": "code",
      "execution_count": null,
      "metadata": {
        "colab": {
          "base_uri": "https://localhost:8080/"
        },
        "id": "gy5GVpZkdAwB",
        "outputId": "e5f07e7b-69f8-4fca-deb6-34e04e79c113"
      },
      "outputs": [
        {
          "name": "stdout",
          "output_type": "stream",
          "text": [
            "table create succesfully\n",
            "insert successfully\n"
          ]
        }
      ],
      "source": [
        "conn.execute('''CREATE TABLE review_infos(p TEXT PRIMARY KEY NOT NULL, \n",
        "                      title TEXT NOT NULL,\n",
        "                      comment TEXT NOT NULL, \n",
        "                      rating TEXT NOT NULL,\n",
        "                      comment_time TEXT );''')\n",
        "print('table create succesfully')\n",
        "# for title in titles_new:\n",
        "conn.execute(\"INSERT INTO review_infos (p,title,comment,rating) VALUES ('1', 'Paul', '32', 'California')\")\n",
        "print(\"insert successfully\")\n",
        "\n",
        "\n",
        "conn.commit()\n"
      ]
    },
    {
      "cell_type": "markdown",
      "metadata": {
        "id": "J22fcQZIyarr"
      },
      "source": [
        "## Select Table(Print Table) "
      ]
    },
    {
      "cell_type": "code",
      "execution_count": null,
      "metadata": {
        "colab": {
          "base_uri": "https://localhost:8080/"
        },
        "id": "7ifMJGDxygaf",
        "outputId": "56d67b6b-27c9-4bf1-cac2-2a311a0b9648"
      },
      "outputs": [
        {
          "name": "stdout",
          "output_type": "stream",
          "text": [
            "person: 1\n",
            "title: Paul\n",
            "comment:32\n",
            "rating: California\n",
            "Operation done successfully\n"
          ]
        }
      ],
      "source": [
        "cursor = c.execute(\"SELECT p, title, comment, rating  from review_infos\")\n",
        "for row in cursor:\n",
        "  print('person: ' + row[0])\n",
        "  print('title: ' + row[1])\n",
        "  print('comment:'  + row[2])\n",
        "  print('rating: ' + row[3])\n",
        "print(\"Operation done successfully\") \n",
        "# conn.close()"
      ]
    },
    {
      "cell_type": "markdown",
      "metadata": {
        "id": "Am1Y4RWbyI69"
      },
      "source": [
        "## Delete Table of dataframe"
      ]
    },
    {
      "cell_type": "code",
      "execution_count": null,
      "metadata": {
        "colab": {
          "base_uri": "https://localhost:8080/"
        },
        "id": "MOi3SWAw-lhA",
        "outputId": "85a4ddcf-d874-422b-ea6c-a20ad0a2024c"
      },
      "outputs": [
        {
          "name": "stdout",
          "output_type": "stream",
          "text": [
            "Drop table successfully\n"
          ]
        }
      ],
      "source": [
        "# DELETE TABLE \n",
        "c.execute(\"DROP TABLE review_infos_df\")\n",
        "print(\"Drop table successfully\")\n",
        "# conn.close()"
      ]
    },
    {
      "cell_type": "markdown",
      "metadata": {
        "id": "I_amprWZ04dn"
      },
      "source": [
        "## Use Dataframe to create table"
      ]
    },
    {
      "cell_type": "code",
      "execution_count": null,
      "metadata": {
        "colab": {
          "base_uri": "https://localhost:8080/"
        },
        "id": "cIBqVJWM0-L0",
        "outputId": "f82a0ec3-9aca-4a80-bee7-8f66ac9e6869"
      },
      "outputs": [
        {
          "name": "stdout",
          "output_type": "stream",
          "text": [
            "table create succesfully\n"
          ]
        }
      ],
      "source": [
        "\n",
        "conn.execute('''CREATE TABLE review_infos_df(\n",
        "                      ID INTEGER PRIMARY KEY AUTOINCREMENT,\n",
        "                      title_keys TEXT NOT NULL,\n",
        "                      comment_keys TEXT NOT NULL, \n",
        "                      rating_keys TEXT NOT NULL,\n",
        "                      comment_time TEXT NOT NULL,\n",
        "                      insert_time DATETIME );''')\n",
        "print('table create succesfully')\n",
        "df.to_sql('review_infos_df', conn, if_exists='append' , index=False)"
      ]
    },
    {
      "cell_type": "code",
      "execution_count": null,
      "metadata": {
        "colab": {
          "base_uri": "https://localhost:8080/"
        },
        "id": "waWJLtl68v3i",
        "outputId": "88553239-615c-4e5f-90b9-56a50af21639"
      },
      "outputs": [
        {
          "name": "stdout",
          "output_type": "stream",
          "text": [
            "Total number of rows updated : 40\n"
          ]
        }
      ],
      "source": [
        "\n",
        "for i in range(1, count+1):\n",
        "  time_range = datetime.timedelta(hours = 8)\n",
        "  local_time = datetime.datetime.now()\n",
        "  new_time = local_time + time_range\n",
        "  # timeString = time.strftime(\"%Y/%m/%d %H:%M:%S\", local_time) \n",
        "  conn.execute(\"UPDATE review_infos_df set insert_time = ? where ID= ?\",[new_time,str(i)])\n",
        "conn.commit()\n",
        "print (\"Total number of rows updated :\", conn.total_changes)"
      ]
    },
    {
      "cell_type": "markdown",
      "metadata": {
        "id": "LqOyEqE7yzUm"
      },
      "source": [
        "## Testing"
      ]
    },
    {
      "cell_type": "code",
      "execution_count": null,
      "metadata": {
        "colab": {
          "base_uri": "https://localhost:8080/"
        },
        "id": "Wyz-TI8beWlT",
        "outputId": "0447b31a-cbdd-4f3a-e7ac-5a2fccd55687"
      },
      "outputs": [
        {
          "name": "stdout",
          "output_type": "stream",
          "text": [
            "1\n",
            "2\n",
            "3\n",
            "4\n"
          ]
        }
      ],
      "source": [
        "for i in range(1 , count):\n",
        "  print(i)"
      ]
    },
    {
      "cell_type": "code",
      "execution_count": null,
      "metadata": {
        "id": "1UX5C_310IoW"
      },
      "outputs": [],
      "source": [
        "from sqlalchemy import create_engine\n",
        "engine = create_engine('sqlite://', echo=False)"
      ]
    },
    {
      "cell_type": "code",
      "execution_count": null,
      "metadata": {
        "colab": {
          "base_uri": "https://localhost:8080/"
        },
        "id": "lE7Vy2Ai0Kez",
        "outputId": "3a2f3e35-ce3a-481e-85bb-dfa52cf5ccb6"
      },
      "outputs": [
        {
          "data": {
            "text/plain": [
              "[(0, '值得一去的飯店', '整體服務品質都很好，房間很大，提供嬰兒床、浴盆、消毒鍋。疫情期間早餐比較凌亂點其他還不錯。日月潭最美的景色從陽台就可以看得到了。', '5 STARS', '2021年11月'),\n",
              " (1, '美好回憶的旅行', '每年都會來涵碧樓渡假，從下車到進大廳，服務人員都對我們親切的問候，感覺很溫馨。這次的旅行是為了慶祝週年紀念，謝謝涵碧樓準備的花盒，很美.讓我們很開心感動..很喜歡這裏的氣氛，任何一個角落都很美.飯店質感和服務很好，風景很優美..會讓人一來再來..', '5 STARS', '2021年3月'),\n",
              " (2, '春節假期前涵碧樓', '春節假期前，突然訂到涵碧樓！就提早由台北回來台中，隔天到日月潭18000屬於2-3樓，位置特別拜託才給我們泳池正上面三樓，View挺好可惜空污浪費這好山好水。服務接待有超五星等級。建築物是有點老舊設施也看出歲月！但不影響心情，房內空間寬敞感受寧靜，思考的好地方！', '5 STARS', '2021年2月'),\n",
              " (3, '極簡、禪風、Ongoing Style。', '四時皆美的日月潭，有如移光借影的明鏡，現在的涵碧樓很不一樣! 喜歡漫步泳池畔，大廳兩旁，一樓的瀑布竹林水池和通往涵碧步道的泳池旁小徑到涵碧步道，很棒的一次家庭旅行。一家三人開了二個房(連通房)的確住的舒適，但兒子的房間落塵灰塵異常的多，鼻子過敏不舒服，小遺憾。', '5 STARS', '2021年2月'),\n",
              " (4, '適合約會，不宜親子', '涵碧樓的服務人員相對雲品來說比較專業，從停車至大廳門口開始，都有人帶領，check in後至大廳等待，有好喝的梅子紅茶，還有味道非常不錯的溫熱毛巾，之後也有專人帶領介紹環境和客房，服務態度有五星級飯店的水準。客房古樸，湖景極佳，很適合情侶夫妻來放鬆約會。沒有親子設施，所以帶小孩來我還是會選擇雲品。藝術品商店的店員服務業很好，且對商品的解說詳盡，給予高度好評。', '5 STARS', '2021年1月')]"
            ]
          },
          "execution_count": 35,
          "metadata": {},
          "output_type": "execute_result"
        }
      ],
      "source": [
        "df.to_sql('review_info_tt', con=engine)\n",
        "engine.execute(\"SELECT * FROM review_info_test\").fetchall()"
      ]
    },
    {
      "cell_type": "code",
      "execution_count": null,
      "metadata": {
        "colab": {
          "base_uri": "https://localhost:8080/",
          "height": 185
        },
        "id": "hn0I8T9G1mCr",
        "outputId": "164ef54a-1f99-42d9-9252-e88178b949ed"
      },
      "outputs": [
        {
          "ename": "OperationalError",
          "evalue": "ignored",
          "output_type": "error",
          "traceback": [
            "\u001b[0;31m---------------------------------------------------------------------------\u001b[0m",
            "\u001b[0;31mOperationalError\u001b[0m                          Traceback (most recent call last)",
            "\u001b[0;32m<ipython-input-36-a8ce3f5b294e>\u001b[0m in \u001b[0;36m<module>\u001b[0;34m()\u001b[0m\n\u001b[0;32m----> 1\u001b[0;31m \u001b[0mc\u001b[0m\u001b[0;34m.\u001b[0m\u001b[0mexecute\u001b[0m\u001b[0;34m(\u001b[0m\u001b[0;34m\"DROP TABLE review_info_test\"\u001b[0m\u001b[0;34m)\u001b[0m\u001b[0;34m\u001b[0m\u001b[0;34m\u001b[0m\u001b[0m\n\u001b[0m\u001b[1;32m      2\u001b[0m \u001b[0mprint\u001b[0m\u001b[0;34m(\u001b[0m\u001b[0;34m\"Drop table successfully\"\u001b[0m\u001b[0;34m)\u001b[0m\u001b[0;34m\u001b[0m\u001b[0;34m\u001b[0m\u001b[0m\n",
            "\u001b[0;31mOperationalError\u001b[0m: no such table: review_info_test"
          ]
        }
      ],
      "source": [
        "c.execute(\"DROP TABLE review_info_test\")\n",
        "print(\"Drop table successfully\")"
      ]
    },
    {
      "cell_type": "markdown",
      "metadata": {
        "id": "vk7_CI7j51SO"
      },
      "source": [
        "## Select Table(Print Table) Of DataFrame"
      ]
    },
    {
      "cell_type": "code",
      "execution_count": null,
      "metadata": {
        "colab": {
          "base_uri": "https://localhost:8080/"
        },
        "id": "gTfPGIJS51SO",
        "outputId": "d06fb909-14d0-419b-a0d8-64dfd4d2c9c6"
      },
      "outputs": [
        {
          "name": "stdout",
          "output_type": "stream",
          "text": [
            "ID: 1\n",
            "title: 值得一去的飯店\n",
            "comment:整體服務品質都很好，房間很大，提供嬰兒床、浴盆、消毒鍋。疫情期間早餐比較凌亂點其他還不錯。日月潭最美的景色從陽台就可以看得到了。\n",
            "rating: 5 STARS\n",
            "comment_time: 2021年11月\n",
            "insert_time: 2021-12-27 16:55:53.646652\n",
            "\n",
            "\n",
            "ID: 2\n",
            "title: 美好回憶的旅行\n",
            "comment:每年都會來涵碧樓渡假，從下車到進大廳，服務人員都對我們親切的問候，感覺很溫馨。這次的旅行是為了慶祝週年紀念，謝謝涵碧樓準備的花盒，很美.讓我們很開心感動..很喜歡這裏的氣氛，任何一個角落都很美.飯店質感和服務很好，風景很優美..會讓人一來再來..\n",
            "rating: 5 STARS\n",
            "comment_time: 2021年3月\n",
            "insert_time: 2021-12-27 16:55:53.652419\n",
            "\n",
            "\n",
            "ID: 3\n",
            "title: 春節假期前涵碧樓\n",
            "comment:春節假期前，突然訂到涵碧樓！就提早由台北回來台中，隔天到日月潭18000屬於2-3樓，位置特別拜託才給我們泳池正上面三樓，View挺好可惜空污浪費這好山好水。服務接待有超五星等級。建築物是有點老舊設施也看出歲月！但不影響心情，房內空間寬敞感受寧靜，思考的好地方！\n",
            "rating: 5 STARS\n",
            "comment_time: 2021年2月\n",
            "insert_time: 2021-12-27 16:55:53.652476\n",
            "\n",
            "\n",
            "ID: 4\n",
            "title: 極簡、禪風、Ongoing Style。\n",
            "comment:四時皆美的日月潭，有如移光借影的明鏡，現在的涵碧樓很不一樣! 喜歡漫步泳池畔，大廳兩旁，一樓的瀑布竹林水池和通往涵碧步道的泳池旁小徑到涵碧步道，很棒的一次家庭旅行。一家三人開了二個房(連通房)的確住的舒適，但兒子的房間落塵灰塵異常的多，鼻子過敏不舒服，小遺憾。\n",
            "rating: 5 STARS\n",
            "comment_time: 2021年2月\n",
            "insert_time: 2021-12-27 16:55:53.652489\n",
            "\n",
            "\n",
            "ID: 5\n",
            "title: 適合約會，不宜親子\n",
            "comment:涵碧樓的服務人員相對雲品來說比較專業，從停車至大廳門口開始，都有人帶領，check in後至大廳等待，有好喝的梅子紅茶，還有味道非常不錯的溫熱毛巾，之後也有專人帶領介紹環境和客房，服務態度有五星級飯店的水準。客房古樸，湖景極佳，很適合情侶夫妻來放鬆約會。沒有親子設施，所以帶小孩來我還是會選擇雲品。藝術品商店的店員服務業很好，且對商品的解說詳盡，給予高度好評。\n",
            "rating: 5 STARS\n",
            "comment_time: 2021年1月\n",
            "insert_time: 2021-12-27 16:55:53.652500\n",
            "\n",
            "\n",
            "ID: 6\n",
            "title: 曾經風光的雅致渡假飯店\n",
            "comment:已經走過18個年頭的涵碧樓，設備&裝潢居然沒有與時俱進，洗手台看起來像工廠設備，客廳Bose音響的遙控器都已經從白變成黃，冰塊箱用木頭盒的設計，看起來像骨灰罈，插座少又很鬆。走廊應該添置花卉/蠟燭/藝術品以增添人氣/文化/優雅氛圍的空間感。 Spa櫃檯人手不足，服務品質容易出現冏狀，夫妻一同享用按摩，不同盥洗室出來，也沒有服務人員通知另一人在不同等待區，不夠貼心的服務態度。帶位介紹空間的服務員毫無笑容，可能我們欠她很多錢，不便宜價格的Spa,按摩技術還不錯，可是服務人員態度需更多加強，真是讓人不能接受這是涵碧樓的服務品質。 早餐菜色選擇有在水準之內，只是靠窗位置，椅背太靠近背後他桌的椅背，感覺太靠近，無法擺放冬天大衣，因為椅背跟他桌椅背是貼緊的。\n",
            "rating: 4 STARS\n",
            "comment_time: 2021年1月\n",
            "insert_time: 2021-12-27 16:55:53.652510\n",
            "\n",
            "\n",
            "ID: 7\n",
            "title: 風景無敵東方餐廳菜色普通用餐環境壅擠\n",
            "comment:飯店停車場沒有電梯需要步行上樓,東方餐廳景觀很好但是食物內容有進步空間 牛排很硬海鮮只有蝦子跟小章魚還有非常小的螃蟹(不是很新鮮) 如果在食物上加強是會願意再去的\n",
            "rating: 3 STARS\n",
            "comment_time: 2020年11月\n",
            "insert_time: 2021-12-27 16:55:53.652521\n",
            "\n",
            "\n",
            "ID: 8\n",
            "title: 最美的風景是房間內的蜘蛛絲\n",
            "comment:如果不是這樣等級的費用，可能還會多一、二顆星。景色真的很美，絕對是得天獨厚，大部分員工也親切，入住時的檸檬紅茶（應改是）意外好喝...但ㄧ切都毀在房間天花板的蜘蛛絲（最後一張照片）........🤷🏻‍♂️🤷🏻‍♂️🤷🏻‍♂️🤷🏻‍♂️\n",
            "rating: 2 STARS\n",
            "comment_time: 2020年9月\n",
            "insert_time: 2021-12-27 16:55:53.652532\n",
            "\n",
            "\n",
            "ID: 9\n",
            "title: 訂出高房價，就應該提供住客高品質的住宿經驗！涵碧樓該往前走了 !\n",
            "comment:將近20歲的飯店，應該要修整更新某些設備了 ! 例如房門，我們一入住就發現無法從內鎖上，工程人員來修，說是有些變形，所以鎖不上，雖然有修好，但是變形就表示使用過久了 ! 再來是插座數量不足，大概只找到3個插座，1個在洗手台，另外2個都插著電蚊香，現在每個人都有自己的3C產品，插座不夠會造成充電的不方便 ! 然後是空調異音，運轉時會發出噪音，這也是因為機器老舊的問題 ! 接著是隔音問題，房間門的隔音效果不好，我們在晚上有聽見小孩的哭鬧聲；落地窗的隔音也應該加強，因為一早就聽到住客在泳池打水嬉鬧的聲音 ! 以上問題都顯示出：飯店應該要大修整了，尤其是設備的更新，才能確保住宿品質不被干擾 ，住客願意付出高昂的房價，飯店就應該給出與價格相對應的住宿品質 ! 優點就是地理位置很好，附近沒有其他雜亂的建築，所以房間看出去就是寬闊的自然美景! 服務人員熱情有禮，細節部分要加強，因為有發生送錯衣服的小插曲 ~\n",
            "rating: 4 STARS\n",
            "comment_time: 2020年6月\n",
            "insert_time: 2021-12-27 16:55:53.652549\n",
            "\n",
            "\n",
            "ID: 10\n",
            "title: 旅館管理需要加強，旅客隱私沒有保障\n",
            "comment:在12/31/2019～1/02/2020 入住. 相隔幾年舊地重遊，訝異旅館房間老舊(尤其是浴室),感覺旅館的維修並不太好。跨年倒數的活動乏善可陳。但是東方餐廳的主管和服務人員態度很親切很專業， 相較之下湖光軒的服務態度就差了一些。入住的第二天居然在房間陽台發現一台無人攝影飛機在我們住的陽台往我們房間拍攝（OMG!,)。連忙連絡旅館櫃台人員處理。旅館何姓經理説已告知新入住的住客（drone的主人）， 何姓經理說”drone的主人表示並沒有拍到什麼。至於旅客隱私方面，因為台灣對於drone的使用沒有明確的法律規定，如果我們決定要報警我們可以自行報警“。至於drone的主人，何姓經理說“基於保護客人隱私，旅館無法告知”。（那麼我們被拍攝的客人隱私怎麼辦？）。當要求換房間（因為我們發現drone的主人可能是我們房間隔壁的住客）， 何姓經理告知我們,因為當天（01/01/2020）旅館全滿無法另外再安排換房間。他説他當天晚上會特別留在旅館值班並加強我們住的那一區的夜間尋邏。當問及旅館是否有或將來會在旅客入住時規定或是宣導住客不能在旅館建物特定的距離内使用無人機來拍攝其他住客？何姓經理回說:”目前無這個想法和做法。“ 當天我們全家懷著不安的心過了一夜。隔天check out時櫃臺小姐收了我的信用卡付款後只淡淡笑了一下説：再見。 從大廳到上我們請旅館安排預定的計乘車，計程車竟然停在離旅館門口很遠的地方，我們必須自己走路過去上車並沒有服務人員指引。（感覺上好像付錢後，就該摸鼻子走人。和多年前來的以客為尊的親切態度完全不同。）試問涵碧樓除了向住客收取高級的收費外，對於住客的隱私和態度是如此這般和收費有對等嗎？雖然有填寫旅客滿意度問卷調查，直至今日04/08/2020）完全沒有收到任何的回音。（在我們的感覺上比世界上大部分二星級的旅館還不如。）不建議入住。\n",
            "rating: 1 STARS\n",
            "comment_time: 2020年4月\n",
            "insert_time: 2021-12-27 16:55:53.652831\n",
            "\n",
            "\n",
            "ID: 11\n",
            "title: 古典飯店\n",
            "comment:跨年選擇來這裡過，整體上很靜悠，很古典的氛圍，房間是木質家具跟許多花的擺飾。飯店設備最令我印象深刻的是湯池，可以白天跟晚上都來泡一下，景色不錯。房間硬體方面，其實比較中規中矩，感覺沒有更新，電視跟音響設備是舊式,似乎不是很好操控跟使用。整體飯店屬於比較昏暗，如果喜歡明亮的旅客，可能會不習慣。\n",
            "rating: 4 STARS\n",
            "comment_time: 2020年1月\n",
            "insert_time: 2021-12-27 16:55:53.652856\n",
            "\n",
            "\n",
            "ID: 12\n",
            "title: 環境優美\n",
            "comment:氣氛沈靜、環境優美，觀景平台面對日月潭湖景，非常壯觀，服務人員態度良好，部分設施比較舊式，可以再加強！\n",
            "rating: 4 STARS\n",
            "comment_time: 2019年12月\n",
            "insert_time: 2021-12-27 16:55:53.652867\n",
            "\n",
            "\n",
            "ID: 13\n",
            "title: 高質感的住宿環境\n",
            "comment:久聞涵碧樓的高質感住宿環境，終於有幸一窺它的真面目。入口大廳處其實是位於飯店的八樓，從八樓俯視日月潭美景，真的美不勝收，房間內的擺設都很簡單有質感，整個飯店散發一股寧靜的氛圍，真的很適合來這裡住夜晚遠離塵囂。\n",
            "rating: 5 STARS\n",
            "comment_time: 2019年11月\n",
            "insert_time: 2021-12-27 16:55:53.653134\n",
            "\n",
            "\n",
            "ID: 14\n",
            "title: 美好的地方\n",
            "comment:日月潭涵碧酒店很漂亮。房間很大（套房），陽台很大，可以看到美麗的湖面。這家中餐館很好。所有的人都像預想的一樣友好，而且非常乾淨。同時夜床服務也非常好。在一個神奇地區的美好經歷！\n",
            "rating: 5 STARS\n",
            "comment_time: 2019年8月\n",
            "insert_time: 2021-12-27 16:55:53.653159\n",
            "\n",
            "\n",
            "ID: 15\n",
            "title: 地理位置和服務極佳的飯店、有很棒的三溫暖澡堂、飲食水平差強人意\n",
            "comment:住的是家庭式四人房（一主臥一客臥房），位置風景沒話說得棒，房間的風格極有禪意、大多由實木打造，服務生的態度絕對有五星級的水準，很讓人有身心放鬆之感。泳池是室外的，所以可惜入住時雨天沒有使用到，但室內的三溫暖非常推薦（須額外加價$300/人），白天同時可通透室外風光。唯一不足的，大概就是餐廳和早餐顯得非常普通，對飲食較為講究者可能要考慮再三，另外，房間內偶爾可見小強和蒼蠅，也是需要改進的地方吧！\n",
            "rating: 4 STARS\n",
            "comment_time: 2019年8月\n",
            "insert_time: 2021-12-27 16:55:53.653170\n",
            "\n",
            "\n",
            "ID: 16\n",
            "title: 悠閒的地方\n",
            "comment:風景優美， 服務很親切，不同節日有不同的活動，很適合渡假，唯一的小小缺點，是湖光軒中餐廳的餐還好。下次還會再入住。\n",
            "rating: 5 STARS\n",
            "comment_time: 2019年4月\n",
            "insert_time: 2021-12-27 16:55:53.653180\n",
            "\n",
            "\n",
            "ID: 17\n",
            "title: 最喜歡的飯店\n",
            "comment:這是我們全家第九次入住涵碧樓，因為這裡的景觀和寧靜，都是我們很喜歡的。每一次退房時，我們也都會在飯店門口拍照留念，所以，看著十年來孩子在門口留下的身影逐漸成長，是非常有紀念價值的，希望涵碧樓門口的桌椅和盆栽要繼續維持唷！ 因為我們每次入住都喜歡待在安靜的飯店裡看書、看電影，所以希望涵碧樓圖書館內可以借閱的書籍和影片可以更新，尤其可出借的影片都頗老舊了，有點可惜。 這次在東方餐廳享用自助式晚餐，菜色豐富，口味也很不錯，期待下次再見囉 ～\n",
            "rating: 5 STARS\n",
            "comment_time: 2019年4月\n",
            "insert_time: 2021-12-27 16:55:53.653190\n",
            "\n",
            "\n",
            "ID: 18\n",
            "title: 完美的家庭休閒\n",
            "comment:嚮往許久的日月潭涵碧樓，從老涵碧樓史蹟，隱身林間，來自Kerry Hill 木質低調現代風建築。 站在窗台眺望，清晨水墨色中的光華島，慈恩塔，遠高於預期。 每一位職工夥伴，親切貼心，真誠問候！ 值得！ 我們會再來的！\n",
            "rating: 5 STARS\n",
            "comment_time: 2019年4月\n",
            "insert_time: 2021-12-27 16:55:53.653200\n",
            "\n",
            "\n",
            "ID: 19\n",
            "title: 20190402～0403 第二次住\n",
            "comment:20190402～0403 第二次住 湖景套房 1606 6樓 可惜不是最高樓7樓 但還是很棒 時尚之旅 16720 晚餐 沒有搭一泊二食 禪風之旅 19998 但是 還是吃 湖光軒中餐廳 單點 花費 2013 好吃 沒什麼好說 超棒 還會再來住\n",
            "rating: 5 STARS\n",
            "comment_time: 2019年4月\n",
            "insert_time: 2021-12-27 16:55:53.653209\n",
            "\n",
            "\n",
            "ID: 20\n",
            "title: 超級棒！！！\n",
            "comment:涵碧樓本身就相當有名，一到飯店服務就非常周到，等待check in 的時候服務人員會提供迎賓飲料還有小點心。房間非常大且舒適，住在面湖的房間，景色超美！！！ 飯店提供的早餐及晚餐為自助式，雖然是自助式但是菜色精緻度高，種類也不少，也相當好吃。 此外飯店有SPA按摩服務（需提前預約，可記房帳）按摩有獨立房間，服務很棒。\n",
            "rating: 5 STARS\n",
            "comment_time: 2019年3月\n",
            "insert_time: 2021-12-27 16:55:53.653218\n",
            "\n",
            "\n",
            "Operation done successfully\n"
          ]
        }
      ],
      "source": [
        "cursor = c.execute(\"SELECT  ID, title_keys, comment_keys, rating_keys, comment_time, insert_time  from review_infos_df\")\n",
        "for row in cursor:\n",
        "  print('ID: '+ str(row[0]))\n",
        "  print('title: ' + row[1])\n",
        "  print('comment:' + row[2])\n",
        "  print('rating: ' + row[3])\n",
        "  print('comment_time: ' + row[4])\n",
        "  print('insert_time: ' + row[5])\n",
        "  print('\\n')\n",
        "print(\"Operation done successfully\") \n",
        "# conn.close()"
      ]
    }
  ],
  "metadata": {
    "colab": {
      "collapsed_sections": [],
      "name": "Sep 1 crawling.ipynb",
      "provenance": [],
      "include_colab_link": true
    },
    "kernelspec": {
      "display_name": "Python 3",
      "name": "python3"
    },
    "language_info": {
      "name": "python"
    }
  },
  "nbformat": 4,
  "nbformat_minor": 0
}